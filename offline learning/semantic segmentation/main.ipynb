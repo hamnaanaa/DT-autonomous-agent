{
 "cells": [
  {
   "cell_type": "code",
   "execution_count": 1,
   "metadata": {},
   "outputs": [
    {
     "name": "stderr",
     "output_type": "stream",
     "text": [
      "/Users/hamnaanaa/opt/anaconda3/envs/pl/lib/python3.10/site-packages/tqdm/auto.py:22: TqdmWarning: IProgress not found. Please update jupyter and ipywidgets. See https://ipywidgets.readthedocs.io/en/stable/user_install.html\n",
      "  from .autonotebook import tqdm as notebook_tqdm\n"
     ]
    }
   ],
   "source": [
    "import numpy as np\n",
    "import torch\n",
    "from torch.utils.data import DataLoader, random_split\n",
    "\n",
    "import pytorch_lightning as pl\n",
    "from pytorch_lightning.callbacks.early_stopping import EarlyStopping\n",
    "\n",
    "from PIL import Image, ImageDraw\n",
    "from torchvision import transforms\n",
    "\n",
    "from dataloader.dataloader import DTSegmentationDataset\n",
    "from model.model import DTSegmentationNetwork"
   ]
  },
  {
   "cell_type": "code",
   "execution_count": 2,
   "metadata": {},
   "outputs": [],
   "source": [
    "%load_ext autoreload\n",
    "%autoreload 2"
   ]
  },
  {
   "attachments": {},
   "cell_type": "markdown",
   "metadata": {},
   "source": [
    "### Load the dataset"
   ]
  },
  {
   "cell_type": "code",
   "execution_count": 3,
   "metadata": {},
   "outputs": [
    {
     "name": "stdout",
     "output_type": "stream",
     "text": [
      "Train size: 100, val size: 25\n"
     ]
    }
   ],
   "source": [
    "dataset = DTSegmentationDataset()\n",
    "\n",
    "# Split the dataset into train and test\n",
    "train_size = int(0.8 * len(dataset))\n",
    "test_size = len(dataset) - train_size\n",
    "train, val = random_split(dataset, [train_size, test_size])\n",
    "print(f\"Train size: {len(train)}, val size: {len(val)}\")"
   ]
  },
  {
   "attachments": {},
   "cell_type": "markdown",
   "metadata": {},
   "source": [
    "### Overfit Test"
   ]
  },
  {
   "cell_type": "code",
   "execution_count": null,
   "metadata": {},
   "outputs": [],
   "source": [
    "overfit_hparams = {\n",
    "    # --- Model ---\n",
    "    # | Model hyperparameters\n",
    "    'num_classes': 5,\n",
    "    # | Optimization hyperparameters\n",
    "    \"learning_rate\": 0.0625,\n",
    "    \"weight_decay\": 0.000000625,\n",
    "    \"lr_decay\": 0.25,\n",
    "    \n",
    "    # --- Dataloader (Hardware-specific) ---\n",
    "    \"batch_size\": 12,\n",
    "    \"num_workers\": 2,\n",
    "}\n",
    "\n",
    "model = DTSegmentationNetwork(overfit_hparams)\n",
    "\n",
    "# Overfit for testing\n",
    "early_stop_overfit_callback = EarlyStopping(\n",
    "    monitor='loss',\n",
    "    patience=150,\n",
    "    min_delta=0.0005,\n",
    "    verbose=True,\n",
    "    mode='min'\n",
    ")\n",
    "\n",
    "trainer = pl.Trainer(\n",
    "    log_every_n_steps=1,\n",
    "    max_epochs=150,\n",
    "    overfit_batches=1,\n",
    "    callbacks=[early_stop_overfit_callback]\n",
    ")\n",
    "\n",
    "# image, target = train[0]\n",
    "# # print(f'image: {image.shape}, target: {target.shape}')\n",
    "# result = torch.argmax(target, dim=0)\n",
    "# print(f'image: {image.shape}, result: {result.shape}, value range: {torch.min(result)}-{torch.max(result)}')\n",
    "\n",
    "trainer.fit(model, DataLoader(train, shuffle=False, batch_size=1), DataLoader(val, shuffle=False, batch_size=1))"
   ]
  },
  {
   "cell_type": "code",
   "execution_count": 23,
   "metadata": {},
   "outputs": [
    {
     "name": "stdout",
     "output_type": "stream",
     "text": [
      "Target shape: torch.Size([480, 640]), value range: 0-3\n",
      "Result shape: torch.Size([1, 480, 640]), value range: 0-3\n"
     ]
    }
   ],
   "source": [
    "# visualize the overfitted results\n",
    "img, target = train[0]\n",
    "print(f\"Target shape: {target.shape}, value range: {torch.min(target)}-{torch.max(target)}\")\n",
    "result = torch.argmax(model(img.unsqueeze(0)), dim=1)\n",
    "print(f\"Result shape: {result.shape}, value range: {torch.min(result)}-{torch.max(result)}\")\n",
    "pil_transform = transforms.ToPILImage()\n",
    "pil_transform(img).show(title=\"image\")\n",
    "pil_transform(DTSegmentationDataset.label_img_to_rgb(target)).show(title=\"ground truth\")\n",
    "pil_transform(DTSegmentationDataset.label_img_to_rgb(result[0])).show(title=\"prediction\")"
   ]
  },
  {
   "attachments": {},
   "cell_type": "markdown",
   "metadata": {},
   "source": [
    "### Training the model"
   ]
  },
  {
   "cell_type": "code",
   "execution_count": null,
   "metadata": {},
   "outputs": [],
   "source": [
    "hparams = {\n",
    "    # --- Model ---\n",
    "    # | Model hyperparameters\n",
    "    'num_classes': 5,\n",
    "    # | Optimization hyperparameters\n",
    "    \"learning_rate\": 0.0625,\n",
    "    \"weight_decay\": 0.000000625,\n",
    "    \"lr_decay\": 0.25,\n",
    "    \n",
    "    # --- Dataloader (Hardware-specific) ---\n",
    "    \"batch_size\": 12,\n",
    "    \"num_workers\": 2,\n",
    "}\n",
    "\n",
    "model = DTSegmentationNetwork(hparams)\n",
    "\n",
    "# Training procedure\n",
    "early_stop_callback = EarlyStopping(\n",
    "    monitor='val_loss',\n",
    "    patience=7,\n",
    "    min_delta=0.01,\n",
    "    verbose=True,\n",
    "    mode='min'\n",
    ")\n",
    "\n",
    "trainer = pl.Trainer(\n",
    "    max_epochs=100,\n",
    "    log_every_n_steps=1,\n",
    "    # For new MacBooks\n",
    "    # accelerator=\"mps\",\n",
    "    # devices=1,\n",
    "    callbacks=[early_stop_callback]\n",
    ")\n",
    "\n",
    "train_dataloader = DataLoader(train, batch_size=hparams['batch_size'], num_workers=hparams['num_workers'])\n",
    "val_dataloader = DataLoader(val, batch_size=hparams['batch_size'], num_workers=hparams['num_workers'])\n",
    "\n",
    "trainer.fit(model, train_dataloader, val_dataloader)\n",
    "\n",
    "model.save(\"model.pt\")"
   ]
  },
  {
   "attachments": {},
   "cell_type": "markdown",
   "metadata": {},
   "source": [
    "### Prediction test"
   ]
  },
  {
   "cell_type": "code",
   "execution_count": 4,
   "metadata": {},
   "outputs": [],
   "source": [
    "model = torch.load(\"model.pt\")"
   ]
  },
  {
   "cell_type": "code",
   "execution_count": 5,
   "metadata": {},
   "outputs": [
    {
     "name": "stdout",
     "output_type": "stream",
     "text": [
      "Target shape: torch.Size([480, 640]), value range: 0-4\n"
     ]
    },
    {
     "name": "stderr",
     "output_type": "stream",
     "text": [
      "[W NNPACK.cpp:53] Could not initialize NNPACK! Reason: Unsupported hardware.\n"
     ]
    },
    {
     "name": "stdout",
     "output_type": "stream",
     "text": [
      "Result shape: torch.Size([1, 480, 640]), value range: 0-4\n"
     ]
    }
   ],
   "source": [
    "# visualize the model results\n",
    "img, target = val[0]\n",
    "print(f\"Target shape: {target.shape}, value range: {torch.min(target)}-{torch.max(target)}\")\n",
    "result = torch.argmax(model(img.unsqueeze(0)), dim=1)\n",
    "print(f\"Result shape: {result.shape}, value range: {torch.min(result)}-{torch.max(result)}\")\n",
    "pil_transform = transforms.ToPILImage()\n",
    "pil_transform(img).show(title=\"image\")\n",
    "pil_transform(DTSegmentationDataset.label_img_to_rgb(target)).show(title=\"ground truth\")\n",
    "rgb_prediction = DTSegmentationDataset.label_img_to_rgb(result[0])\n",
    "pil_prediction = pil_transform(rgb_prediction)\n",
    "pil_prediction.show(title=\"prediction\")"
   ]
  },
  {
   "attachments": {},
   "cell_type": "markdown",
   "metadata": {},
   "source": [
    "### Draw benchmarks"
   ]
  },
  {
   "cell_type": "code",
   "execution_count": 6,
   "metadata": {},
   "outputs": [],
   "source": [
    "# Find the average coordinate of the road\n",
    "road_mask = np.argwhere(rgb_prediction == DTSegmentationDataset.SEGM_LABELS['Ego Lane']['rgb_value'])\n",
    "road_center_y, road_center_x = np.ceil(np.mean(road_mask, axis=0)[:2])\n",
    "\n",
    "drawer = ImageDraw.Draw(pil_prediction)\n",
    "# Draw two circles (bigger and smaller) centered on road center coordinate\n",
    "RADIUS = 20\n",
    "drawer.ellipse((road_center_x - RADIUS, road_center_y - RADIUS, road_center_x + RADIUS, road_center_y + RADIUS), fill='green')\n",
    "drawer.ellipse((road_center_x - 5, road_center_y - 5, road_center_x + 5, road_center_y + 5), fill='orange')\n",
    "# Draw a vertical line on the center of the image\n",
    "drawer.line((pil_prediction.width / 2, 0, pil_prediction.width / 2, pil_prediction.height), fill='red')\n",
    "# Draw a horizontal line from the center of the image to the road center\n",
    "drawer.line((pil_prediction.width / 2, road_center_y, road_center_x, road_center_y), fill='blue')\n",
    "# Draw two lines going from the corners of the image to the road center\n",
    "drawer.line((0, 0, road_center_x, road_center_y), fill='yellow', width=2)\n",
    "drawer.line((pil_prediction.width, 0, road_center_x, road_center_y), fill='yellow', width=2)\n",
    "\n",
    "pil_prediction.show()"
   ]
  }
 ],
 "metadata": {
  "kernelspec": {
   "display_name": "pl",
   "language": "python",
   "name": "python3"
  },
  "language_info": {
   "codemirror_mode": {
    "name": "ipython",
    "version": 3
   },
   "file_extension": ".py",
   "mimetype": "text/x-python",
   "name": "python",
   "nbconvert_exporter": "python",
   "pygments_lexer": "ipython3",
   "version": "3.10.8"
  },
  "orig_nbformat": 4,
  "vscode": {
   "interpreter": {
    "hash": "3315f46222374d13566524152beecd401bb6de98e11336215c532ce4113572da"
   }
  }
 },
 "nbformat": 4,
 "nbformat_minor": 2
}
