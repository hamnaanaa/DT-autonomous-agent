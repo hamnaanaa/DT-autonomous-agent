{
 "cells": [
  {
   "cell_type": "code",
   "execution_count": null,
   "metadata": {},
   "outputs": [],
   "source": []
  },
  {
   "cell_type": "code",
   "execution_count": null,
   "metadata": {},
   "outputs": [],
   "source": [
    "hparams = {\n",
    "    # --- Model ---\n",
    "    # | Model hyperparameters\n",
    "    'num_classes': 3,\n",
    "    # | Optimization hyperparameters\n",
    "    \"learning_rate\": 0.0625,\n",
    "    \"weight_decay\": 0.000000625,\n",
    "    \"lr_decay\": 0.25,\n",
    "    \n",
    "    # --- Dataloader ---\n",
    "    \"batch_size\": 12,\n",
    "    \"num_workers\": 2,\n",
    "}"
   ]
  }
 ],
 "metadata": {
  "language_info": {
   "name": "python"
  },
  "orig_nbformat": 4
 },
 "nbformat": 4,
 "nbformat_minor": 2
}
