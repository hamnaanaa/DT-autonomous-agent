{
 "cells": [
  {
   "cell_type": "code",
   "execution_count": 12,
   "metadata": {},
   "outputs": [],
   "source": [
    "import torch\n",
    "from torch.utils.data import DataLoader, random_split\n",
    "\n",
    "import pytorch_lightning as pl\n",
    "from pytorch_lightning.callbacks.early_stopping import EarlyStopping\n",
    "\n",
    "from PIL import Image, ImageDraw\n",
    "from torchvision import transforms\n",
    "\n",
    "from dataloader.dataloader import DTSegmentationDataset\n",
    "from model.model import DTSegmentationNetwork"
   ]
  },
  {
   "cell_type": "code",
   "execution_count": 2,
   "metadata": {},
   "outputs": [],
   "source": [
    "%load_ext autoreload\n",
    "%autoreload 2"
   ]
  },
  {
   "attachments": {},
   "cell_type": "markdown",
   "metadata": {},
   "source": [
    "### Load the dataset"
   ]
  },
  {
   "cell_type": "code",
   "execution_count": 4,
   "metadata": {},
   "outputs": [
    {
     "name": "stdout",
     "output_type": "stream",
     "text": [
      "Train size: 100, val size: 25\n"
     ]
    }
   ],
   "source": [
    "dataset = DTSegmentationDataset()\n",
    "\n",
    "# Split the dataset into train and test\n",
    "train_size = int(0.8 * len(dataset))\n",
    "test_size = len(dataset) - train_size\n",
    "train, val = random_split(dataset, [train_size, test_size])\n",
    "print(f\"Train size: {len(train)}, val size: {len(val)}\")"
   ]
  },
  {
   "attachments": {},
   "cell_type": "markdown",
   "metadata": {},
   "source": [
    "### Overfit Test"
   ]
  },
  {
   "cell_type": "code",
   "execution_count": 9,
   "metadata": {},
   "outputs": [
    {
     "name": "stderr",
     "output_type": "stream",
     "text": [
      "GPU available: False, used: False\n",
      "TPU available: False, using: 0 TPU cores\n",
      "IPU available: False, using: 0 IPUs\n",
      "HPU available: False, using: 0 HPUs\n",
      "`Trainer(overfit_batches=1)` was configured so 1 batch will be used.\n",
      "\n",
      "  | Name  | Type   | Params\n",
      "---------------------------------\n",
      "0 | model | LRASPP | 3.2 M \n",
      "---------------------------------\n",
      "246 K     Trainable params\n",
      "3.0 M     Non-trainable params\n",
      "3.2 M     Total params\n",
      "12.875    Total estimated model params size (MB)\n"
     ]
    },
    {
     "name": "stdout",
     "output_type": "stream",
     "text": [
      "Sanity Checking DataLoader 0:   0%|          | 0/1 [00:00<?, ?it/s]x: torch.Size([1, 3, 480, 640]), y: torch.Size([1, 480, 640]), y_hat: torch.Size([1, 5, 480, 640])\n",
      "Epoch 0:   0%|          | 0/2 [00:00<?, ?it/s]                             x: torch.Size([1, 3, 480, 640]), y: torch.Size([1, 480, 640]), y_hat: torch.Size([1, 5, 480, 640])\n",
      "Epoch 0:  50%|█████     | 1/2 [00:00<00:00,  5.42it/s, loss=1.83, v_num=23]x: torch.Size([1, 3, 480, 640]), y: torch.Size([1, 480, 640]), y_hat: torch.Size([1, 5, 480, 640])\n",
      "Epoch 0: 100%|██████████| 2/2 [00:00<00:00,  5.46it/s, loss=1.83, v_num=23]"
     ]
    },
    {
     "name": "stderr",
     "output_type": "stream",
     "text": [
      "Metric loss improved. New best score: 1.827\n"
     ]
    },
    {
     "name": "stdout",
     "output_type": "stream",
     "text": [
      "Epoch 1:   0%|          | 0/2 [00:00<?, ?it/s, loss=1.83, v_num=23]        x: torch.Size([1, 3, 480, 640]), y: torch.Size([1, 480, 640]), y_hat: torch.Size([1, 5, 480, 640])\n",
      "Epoch 1:  50%|█████     | 1/2 [00:00<00:00,  3.58it/s, loss=1.11, v_num=23]x: torch.Size([1, 3, 480, 640]), y: torch.Size([1, 480, 640]), y_hat: torch.Size([1, 5, 480, 640])\n",
      "Epoch 1: 100%|██████████| 2/2 [00:00<00:00,  4.59it/s, loss=1.11, v_num=23]"
     ]
    },
    {
     "name": "stderr",
     "output_type": "stream",
     "text": [
      "Metric loss improved by 1.438 >= min_delta = 0.0005. New best score: 0.389\n"
     ]
    },
    {
     "name": "stdout",
     "output_type": "stream",
     "text": [
      "Epoch 2:   0%|          | 0/2 [00:00<?, ?it/s, loss=1.11, v_num=23]        x: torch.Size([1, 3, 480, 640]), y: torch.Size([1, 480, 640]), y_hat: torch.Size([1, 5, 480, 640])\n",
      "Epoch 2:  50%|█████     | 1/2 [00:00<00:00,  5.26it/s, loss=0.817, v_num=23]x: torch.Size([1, 3, 480, 640]), y: torch.Size([1, 480, 640]), y_hat: torch.Size([1, 5, 480, 640])\n",
      "Epoch 2: 100%|██████████| 2/2 [00:00<00:00,  5.61it/s, loss=0.817, v_num=23]"
     ]
    },
    {
     "name": "stderr",
     "output_type": "stream",
     "text": [
      "Metric loss improved by 0.153 >= min_delta = 0.0005. New best score: 0.237\n"
     ]
    },
    {
     "name": "stdout",
     "output_type": "stream",
     "text": [
      "Epoch 3:   0%|          | 0/2 [00:00<?, ?it/s, loss=0.817, v_num=23]        x: torch.Size([1, 3, 480, 640]), y: torch.Size([1, 480, 640]), y_hat: torch.Size([1, 5, 480, 640])\n",
      "Epoch 3:  50%|█████     | 1/2 [00:00<00:00,  4.81it/s, loss=0.664, v_num=23]x: torch.Size([1, 3, 480, 640]), y: torch.Size([1, 480, 640]), y_hat: torch.Size([1, 5, 480, 640])\n",
      "Epoch 3: 100%|██████████| 2/2 [00:00<00:00,  5.40it/s, loss=0.664, v_num=23]"
     ]
    },
    {
     "name": "stderr",
     "output_type": "stream",
     "text": [
      "Metric loss improved by 0.032 >= min_delta = 0.0005. New best score: 0.204\n"
     ]
    },
    {
     "name": "stdout",
     "output_type": "stream",
     "text": [
      "Epoch 4:   0%|          | 0/2 [00:00<?, ?it/s, loss=0.664, v_num=23]        x: torch.Size([1, 3, 480, 640]), y: torch.Size([1, 480, 640]), y_hat: torch.Size([1, 5, 480, 640])\n",
      "Epoch 4:  50%|█████     | 1/2 [00:00<00:00,  4.24it/s, loss=0.568, v_num=23]x: torch.Size([1, 3, 480, 640]), y: torch.Size([1, 480, 640]), y_hat: torch.Size([1, 5, 480, 640])\n",
      "Epoch 4: 100%|██████████| 2/2 [00:00<00:00,  5.19it/s, loss=0.568, v_num=23]"
     ]
    },
    {
     "name": "stderr",
     "output_type": "stream",
     "text": [
      "Metric loss improved by 0.020 >= min_delta = 0.0005. New best score: 0.184\n"
     ]
    },
    {
     "name": "stdout",
     "output_type": "stream",
     "text": [
      "Epoch 4: 100%|██████████| 2/2 [00:00<00:00,  5.07it/s, loss=0.568, v_num=23]Epoch 00005: reducing learning rate of group 0 to 1.5625e-02.\n",
      "Epoch 5:   0%|          | 0/2 [00:00<?, ?it/s, loss=0.568, v_num=23]        x: torch.Size([1, 3, 480, 640]), y: torch.Size([1, 480, 640]), y_hat: torch.Size([1, 5, 480, 640])\n",
      "Epoch 5:  50%|█████     | 1/2 [00:00<00:00,  5.16it/s, loss=0.501, v_num=23]x: torch.Size([1, 3, 480, 640]), y: torch.Size([1, 480, 640]), y_hat: torch.Size([1, 5, 480, 640])\n",
      "Epoch 5: 100%|██████████| 2/2 [00:00<00:00,  5.65it/s, loss=0.501, v_num=23]"
     ]
    },
    {
     "name": "stderr",
     "output_type": "stream",
     "text": [
      "Metric loss improved by 0.017 >= min_delta = 0.0005. New best score: 0.167\n"
     ]
    },
    {
     "name": "stdout",
     "output_type": "stream",
     "text": [
      "Epoch 6:   0%|          | 0/2 [00:00<?, ?it/s, loss=0.501, v_num=23]        x: torch.Size([1, 3, 480, 640]), y: torch.Size([1, 480, 640]), y_hat: torch.Size([1, 5, 480, 640])\n",
      "Epoch 6:  50%|█████     | 1/2 [00:00<00:00,  5.05it/s, loss=0.453, v_num=23]x: torch.Size([1, 3, 480, 640]), y: torch.Size([1, 480, 640]), y_hat: torch.Size([1, 5, 480, 640])\n",
      "Epoch 6: 100%|██████████| 2/2 [00:00<00:00,  5.11it/s, loss=0.453, v_num=23]"
     ]
    },
    {
     "name": "stderr",
     "output_type": "stream",
     "text": [
      "Metric loss improved by 0.004 >= min_delta = 0.0005. New best score: 0.163\n"
     ]
    },
    {
     "name": "stdout",
     "output_type": "stream",
     "text": [
      "Epoch 7:   0%|          | 0/2 [00:00<?, ?it/s, loss=0.453, v_num=23]        x: torch.Size([1, 3, 480, 640]), y: torch.Size([1, 480, 640]), y_hat: torch.Size([1, 5, 480, 640])\n",
      "Epoch 7:  50%|█████     | 1/2 [00:00<00:00,  4.80it/s, loss=0.416, v_num=23]x: torch.Size([1, 3, 480, 640]), y: torch.Size([1, 480, 640]), y_hat: torch.Size([1, 5, 480, 640])\n",
      "Epoch 7: 100%|██████████| 2/2 [00:00<00:00,  5.46it/s, loss=0.416, v_num=23]"
     ]
    },
    {
     "name": "stderr",
     "output_type": "stream",
     "text": [
      "Metric loss improved by 0.006 >= min_delta = 0.0005. New best score: 0.157\n"
     ]
    },
    {
     "name": "stdout",
     "output_type": "stream",
     "text": [
      "Epoch 8:   0%|          | 0/2 [00:00<?, ?it/s, loss=0.416, v_num=23]        x: torch.Size([1, 3, 480, 640]), y: torch.Size([1, 480, 640]), y_hat: torch.Size([1, 5, 480, 640])\n",
      "Epoch 8:  50%|█████     | 1/2 [00:00<00:00,  5.43it/s, loss=0.387, v_num=23]x: torch.Size([1, 3, 480, 640]), y: torch.Size([1, 480, 640]), y_hat: torch.Size([1, 5, 480, 640])\n",
      "Epoch 8: 100%|██████████| 2/2 [00:00<00:00,  5.89it/s, loss=0.387, v_num=23]"
     ]
    },
    {
     "name": "stderr",
     "output_type": "stream",
     "text": [
      "Metric loss improved by 0.006 >= min_delta = 0.0005. New best score: 0.151\n"
     ]
    },
    {
     "name": "stdout",
     "output_type": "stream",
     "text": [
      "Epoch 9:   0%|          | 0/2 [00:00<?, ?it/s, loss=0.387, v_num=23]        x: torch.Size([1, 3, 480, 640]), y: torch.Size([1, 480, 640]), y_hat: torch.Size([1, 5, 480, 640])\n",
      "Epoch 9:  50%|█████     | 1/2 [00:00<00:00,  4.69it/s, loss=0.362, v_num=23]x: torch.Size([1, 3, 480, 640]), y: torch.Size([1, 480, 640]), y_hat: torch.Size([1, 5, 480, 640])\n",
      "Epoch 9: 100%|██████████| 2/2 [00:00<00:00,  4.98it/s, loss=0.362, v_num=23]"
     ]
    },
    {
     "name": "stderr",
     "output_type": "stream",
     "text": [
      "Metric loss improved by 0.007 >= min_delta = 0.0005. New best score: 0.144\n"
     ]
    },
    {
     "name": "stdout",
     "output_type": "stream",
     "text": [
      "Epoch 10:   0%|          | 0/2 [00:00<?, ?it/s, loss=0.362, v_num=23]       x: torch.Size([1, 3, 480, 640]), y: torch.Size([1, 480, 640]), y_hat: torch.Size([1, 5, 480, 640])\n",
      "Epoch 10:  50%|█████     | 1/2 [00:00<00:00,  5.83it/s, loss=0.342, v_num=23]x: torch.Size([1, 3, 480, 640]), y: torch.Size([1, 480, 640]), y_hat: torch.Size([1, 5, 480, 640])\n",
      "Epoch 10: 100%|██████████| 2/2 [00:00<00:00,  5.04it/s, loss=0.342, v_num=23]"
     ]
    },
    {
     "name": "stderr",
     "output_type": "stream",
     "text": [
      "Metric loss improved by 0.007 >= min_delta = 0.0005. New best score: 0.137\n"
     ]
    },
    {
     "name": "stdout",
     "output_type": "stream",
     "text": [
      "Epoch 11:   0%|          | 0/2 [00:00<?, ?it/s, loss=0.342, v_num=23]        x: torch.Size([1, 3, 480, 640]), y: torch.Size([1, 480, 640]), y_hat: torch.Size([1, 5, 480, 640])\n",
      "Epoch 11:  50%|█████     | 1/2 [00:00<00:00,  5.33it/s, loss=0.324, v_num=23]x: torch.Size([1, 3, 480, 640]), y: torch.Size([1, 480, 640]), y_hat: torch.Size([1, 5, 480, 640])\n",
      "Epoch 11: 100%|██████████| 2/2 [00:00<00:00,  5.34it/s, loss=0.324, v_num=23]"
     ]
    },
    {
     "name": "stderr",
     "output_type": "stream",
     "text": [
      "Metric loss improved by 0.007 >= min_delta = 0.0005. New best score: 0.129\n"
     ]
    },
    {
     "name": "stdout",
     "output_type": "stream",
     "text": [
      "Epoch 12:   0%|          | 0/2 [00:00<?, ?it/s, loss=0.324, v_num=23]        x: torch.Size([1, 3, 480, 640]), y: torch.Size([1, 480, 640]), y_hat: torch.Size([1, 5, 480, 640])\n",
      "Epoch 12:  50%|█████     | 1/2 [00:00<00:00,  4.84it/s, loss=0.308, v_num=23]x: torch.Size([1, 3, 480, 640]), y: torch.Size([1, 480, 640]), y_hat: torch.Size([1, 5, 480, 640])\n",
      "Epoch 12: 100%|██████████| 2/2 [00:00<00:00,  5.63it/s, loss=0.308, v_num=23]"
     ]
    },
    {
     "name": "stderr",
     "output_type": "stream",
     "text": [
      "Metric loss improved by 0.007 >= min_delta = 0.0005. New best score: 0.122\n"
     ]
    },
    {
     "name": "stdout",
     "output_type": "stream",
     "text": [
      "Epoch 13:   0%|          | 0/2 [00:00<?, ?it/s, loss=0.308, v_num=23]        x: torch.Size([1, 3, 480, 640]), y: torch.Size([1, 480, 640]), y_hat: torch.Size([1, 5, 480, 640])\n",
      "Epoch 13:  50%|█████     | 1/2 [00:00<00:00,  4.53it/s, loss=0.295, v_num=23]x: torch.Size([1, 3, 480, 640]), y: torch.Size([1, 480, 640]), y_hat: torch.Size([1, 5, 480, 640])\n",
      "Epoch 13: 100%|██████████| 2/2 [00:00<00:00,  4.87it/s, loss=0.295, v_num=23]"
     ]
    },
    {
     "name": "stderr",
     "output_type": "stream",
     "text": [
      "Metric loss improved by 0.007 >= min_delta = 0.0005. New best score: 0.115\n"
     ]
    },
    {
     "name": "stdout",
     "output_type": "stream",
     "text": [
      "Epoch 14:   0%|          | 0/2 [00:00<?, ?it/s, loss=0.295, v_num=23]        x: torch.Size([1, 3, 480, 640]), y: torch.Size([1, 480, 640]), y_hat: torch.Size([1, 5, 480, 640])\n",
      "Epoch 14:  50%|█████     | 1/2 [00:00<00:00,  5.63it/s, loss=0.282, v_num=23]x: torch.Size([1, 3, 480, 640]), y: torch.Size([1, 480, 640]), y_hat: torch.Size([1, 5, 480, 640])\n",
      "Epoch 14: 100%|██████████| 2/2 [00:00<00:00,  5.24it/s, loss=0.282, v_num=23]"
     ]
    },
    {
     "name": "stderr",
     "output_type": "stream",
     "text": [
      "Metric loss improved by 0.007 >= min_delta = 0.0005. New best score: 0.108\n"
     ]
    },
    {
     "name": "stdout",
     "output_type": "stream",
     "text": [
      "Epoch 15:   0%|          | 0/2 [00:00<?, ?it/s, loss=0.282, v_num=23]        x: torch.Size([1, 3, 480, 640]), y: torch.Size([1, 480, 640]), y_hat: torch.Size([1, 5, 480, 640])\n",
      "Epoch 15:  50%|█████     | 1/2 [00:00<00:00,  4.19it/s, loss=0.271, v_num=23]x: torch.Size([1, 3, 480, 640]), y: torch.Size([1, 480, 640]), y_hat: torch.Size([1, 5, 480, 640])\n",
      "Epoch 15: 100%|██████████| 2/2 [00:00<00:00,  4.83it/s, loss=0.271, v_num=23]"
     ]
    },
    {
     "name": "stderr",
     "output_type": "stream",
     "text": [
      "Metric loss improved by 0.006 >= min_delta = 0.0005. New best score: 0.101\n"
     ]
    },
    {
     "name": "stdout",
     "output_type": "stream",
     "text": [
      "Epoch 16:   0%|          | 0/2 [00:00<?, ?it/s, loss=0.271, v_num=23]        x: torch.Size([1, 3, 480, 640]), y: torch.Size([1, 480, 640]), y_hat: torch.Size([1, 5, 480, 640])\n",
      "Epoch 16:  50%|█████     | 1/2 [00:00<00:00,  5.21it/s, loss=0.261, v_num=23]x: torch.Size([1, 3, 480, 640]), y: torch.Size([1, 480, 640]), y_hat: torch.Size([1, 5, 480, 640])\n",
      "Epoch 16: 100%|██████████| 2/2 [00:00<00:00,  5.13it/s, loss=0.261, v_num=23]"
     ]
    },
    {
     "name": "stderr",
     "output_type": "stream",
     "text": [
      "Metric loss improved by 0.006 >= min_delta = 0.0005. New best score: 0.095\n"
     ]
    },
    {
     "name": "stdout",
     "output_type": "stream",
     "text": [
      "Epoch 17:   0%|          | 0/2 [00:00<?, ?it/s, loss=0.261, v_num=23]        x: torch.Size([1, 3, 480, 640]), y: torch.Size([1, 480, 640]), y_hat: torch.Size([1, 5, 480, 640])\n",
      "Epoch 17:  50%|█████     | 1/2 [00:00<00:00,  4.94it/s, loss=0.251, v_num=23]x: torch.Size([1, 3, 480, 640]), y: torch.Size([1, 480, 640]), y_hat: torch.Size([1, 5, 480, 640])\n",
      "Epoch 17: 100%|██████████| 2/2 [00:00<00:00,  5.25it/s, loss=0.251, v_num=23]"
     ]
    },
    {
     "name": "stderr",
     "output_type": "stream",
     "text": [
      "Metric loss improved by 0.005 >= min_delta = 0.0005. New best score: 0.090\n"
     ]
    },
    {
     "name": "stdout",
     "output_type": "stream",
     "text": [
      "Epoch 18:   0%|          | 0/2 [00:00<?, ?it/s, loss=0.251, v_num=23]        x: torch.Size([1, 3, 480, 640]), y: torch.Size([1, 480, 640]), y_hat: torch.Size([1, 5, 480, 640])\n",
      "Epoch 18:  50%|█████     | 1/2 [00:00<00:00,  5.13it/s, loss=0.242, v_num=23]x: torch.Size([1, 3, 480, 640]), y: torch.Size([1, 480, 640]), y_hat: torch.Size([1, 5, 480, 640])\n",
      "Epoch 18: 100%|██████████| 2/2 [00:00<00:00,  5.49it/s, loss=0.242, v_num=23]"
     ]
    },
    {
     "name": "stderr",
     "output_type": "stream",
     "text": [
      "Metric loss improved by 0.005 >= min_delta = 0.0005. New best score: 0.085\n"
     ]
    },
    {
     "name": "stdout",
     "output_type": "stream",
     "text": [
      "Epoch 19:   0%|          | 0/2 [00:00<?, ?it/s, loss=0.242, v_num=23]        x: torch.Size([1, 3, 480, 640]), y: torch.Size([1, 480, 640]), y_hat: torch.Size([1, 5, 480, 640])\n",
      "Epoch 19:  50%|█████     | 1/2 [00:00<00:00,  5.58it/s, loss=0.234, v_num=23]x: torch.Size([1, 3, 480, 640]), y: torch.Size([1, 480, 640]), y_hat: torch.Size([1, 5, 480, 640])\n",
      "Epoch 19: 100%|██████████| 2/2 [00:00<00:00,  5.49it/s, loss=0.234, v_num=23]"
     ]
    },
    {
     "name": "stderr",
     "output_type": "stream",
     "text": [
      "Metric loss improved by 0.004 >= min_delta = 0.0005. New best score: 0.081\n"
     ]
    },
    {
     "name": "stdout",
     "output_type": "stream",
     "text": [
      "Epoch 20:   0%|          | 0/2 [00:00<?, ?it/s, loss=0.234, v_num=23]        x: torch.Size([1, 3, 480, 640]), y: torch.Size([1, 480, 640]), y_hat: torch.Size([1, 5, 480, 640])\n",
      "Epoch 20:  50%|█████     | 1/2 [00:00<00:00,  4.94it/s, loss=0.147, v_num=23]x: torch.Size([1, 3, 480, 640]), y: torch.Size([1, 480, 640]), y_hat: torch.Size([1, 5, 480, 640])\n",
      "Epoch 20: 100%|██████████| 2/2 [00:00<00:00,  4.67it/s, loss=0.147, v_num=23]"
     ]
    },
    {
     "name": "stderr",
     "output_type": "stream",
     "text": [
      "Metric loss improved by 0.003 >= min_delta = 0.0005. New best score: 0.078\n"
     ]
    },
    {
     "name": "stdout",
     "output_type": "stream",
     "text": [
      "Epoch 21:   0%|          | 0/2 [00:00<?, ?it/s, loss=0.147, v_num=23]        x: torch.Size([1, 3, 480, 640]), y: torch.Size([1, 480, 640]), y_hat: torch.Size([1, 5, 480, 640])\n",
      "Epoch 21:  50%|█████     | 1/2 [00:00<00:00,  5.80it/s, loss=0.131, v_num=23]x: torch.Size([1, 3, 480, 640]), y: torch.Size([1, 480, 640]), y_hat: torch.Size([1, 5, 480, 640])\n",
      "Epoch 21: 100%|██████████| 2/2 [00:00<00:00,  5.53it/s, loss=0.131, v_num=23]"
     ]
    },
    {
     "name": "stderr",
     "output_type": "stream",
     "text": [
      "Metric loss improved by 0.003 >= min_delta = 0.0005. New best score: 0.075\n"
     ]
    },
    {
     "name": "stdout",
     "output_type": "stream",
     "text": [
      "Epoch 22:   0%|          | 0/2 [00:00<?, ?it/s, loss=0.131, v_num=23]        x: torch.Size([1, 3, 480, 640]), y: torch.Size([1, 480, 640]), y_hat: torch.Size([1, 5, 480, 640])\n",
      "Epoch 22:  50%|█████     | 1/2 [00:00<00:00,  4.80it/s, loss=0.123, v_num=23]x: torch.Size([1, 3, 480, 640]), y: torch.Size([1, 480, 640]), y_hat: torch.Size([1, 5, 480, 640])\n",
      "Epoch 22: 100%|██████████| 2/2 [00:00<00:00,  5.02it/s, loss=0.123, v_num=23]"
     ]
    },
    {
     "name": "stderr",
     "output_type": "stream",
     "text": [
      "Metric loss improved by 0.003 >= min_delta = 0.0005. New best score: 0.073\n"
     ]
    },
    {
     "name": "stdout",
     "output_type": "stream",
     "text": [
      "Epoch 23:   0%|          | 0/2 [00:00<?, ?it/s, loss=0.123, v_num=23]        x: torch.Size([1, 3, 480, 640]), y: torch.Size([1, 480, 640]), y_hat: torch.Size([1, 5, 480, 640])\n",
      "Epoch 23:  50%|█████     | 1/2 [00:00<00:00,  5.53it/s, loss=0.116, v_num=23]x: torch.Size([1, 3, 480, 640]), y: torch.Size([1, 480, 640]), y_hat: torch.Size([1, 5, 480, 640])\n",
      "Epoch 23: 100%|██████████| 2/2 [00:00<00:00,  4.77it/s, loss=0.116, v_num=23]"
     ]
    },
    {
     "name": "stderr",
     "output_type": "stream",
     "text": [
      "Metric loss improved by 0.002 >= min_delta = 0.0005. New best score: 0.070\n"
     ]
    },
    {
     "name": "stdout",
     "output_type": "stream",
     "text": [
      "Epoch 24:   0%|          | 0/2 [00:00<?, ?it/s, loss=0.116, v_num=23]        x: torch.Size([1, 3, 480, 640]), y: torch.Size([1, 480, 640]), y_hat: torch.Size([1, 5, 480, 640])\n",
      "Epoch 24:  50%|█████     | 1/2 [00:00<00:00,  4.83it/s, loss=0.111, v_num=23]x: torch.Size([1, 3, 480, 640]), y: torch.Size([1, 480, 640]), y_hat: torch.Size([1, 5, 480, 640])\n",
      "Epoch 24: 100%|██████████| 2/2 [00:00<00:00,  5.58it/s, loss=0.111, v_num=23]"
     ]
    },
    {
     "name": "stderr",
     "output_type": "stream",
     "text": [
      "Metric loss improved by 0.002 >= min_delta = 0.0005. New best score: 0.068\n"
     ]
    },
    {
     "name": "stdout",
     "output_type": "stream",
     "text": [
      "Epoch 25:   0%|          | 0/2 [00:00<?, ?it/s, loss=0.111, v_num=23]        x: torch.Size([1, 3, 480, 640]), y: torch.Size([1, 480, 640]), y_hat: torch.Size([1, 5, 480, 640])\n",
      "Epoch 25:  50%|█████     | 1/2 [00:00<00:00,  5.40it/s, loss=0.105, v_num=23]x: torch.Size([1, 3, 480, 640]), y: torch.Size([1, 480, 640]), y_hat: torch.Size([1, 5, 480, 640])\n",
      "Epoch 25: 100%|██████████| 2/2 [00:00<00:00,  6.04it/s, loss=0.105, v_num=23]"
     ]
    },
    {
     "name": "stderr",
     "output_type": "stream",
     "text": [
      "Metric loss improved by 0.002 >= min_delta = 0.0005. New best score: 0.066\n"
     ]
    },
    {
     "name": "stdout",
     "output_type": "stream",
     "text": [
      "Epoch 26:   0%|          | 0/2 [00:00<?, ?it/s, loss=0.105, v_num=23]        x: torch.Size([1, 3, 480, 640]), y: torch.Size([1, 480, 640]), y_hat: torch.Size([1, 5, 480, 640])\n",
      "Epoch 26:  50%|█████     | 1/2 [00:00<00:00,  5.07it/s, loss=0.101, v_num=23]x: torch.Size([1, 3, 480, 640]), y: torch.Size([1, 480, 640]), y_hat: torch.Size([1, 5, 480, 640])\n",
      "Epoch 26: 100%|██████████| 2/2 [00:00<00:00,  5.55it/s, loss=0.101, v_num=23]"
     ]
    },
    {
     "name": "stderr",
     "output_type": "stream",
     "text": [
      "Metric loss improved by 0.002 >= min_delta = 0.0005. New best score: 0.064\n"
     ]
    },
    {
     "name": "stdout",
     "output_type": "stream",
     "text": [
      "Epoch 27:   0%|          | 0/2 [00:00<?, ?it/s, loss=0.101, v_num=23]        x: torch.Size([1, 3, 480, 640]), y: torch.Size([1, 480, 640]), y_hat: torch.Size([1, 5, 480, 640])\n",
      "Epoch 27:  50%|█████     | 1/2 [00:00<00:00,  5.71it/s, loss=0.0958, v_num=23]x: torch.Size([1, 3, 480, 640]), y: torch.Size([1, 480, 640]), y_hat: torch.Size([1, 5, 480, 640])\n",
      "Epoch 27: 100%|██████████| 2/2 [00:00<00:00,  6.28it/s, loss=0.0958, v_num=23]"
     ]
    },
    {
     "name": "stderr",
     "output_type": "stream",
     "text": [
      "Metric loss improved by 0.002 >= min_delta = 0.0005. New best score: 0.062\n"
     ]
    },
    {
     "name": "stdout",
     "output_type": "stream",
     "text": [
      "Epoch 28:   0%|          | 0/2 [00:00<?, ?it/s, loss=0.0958, v_num=23]        x: torch.Size([1, 3, 480, 640]), y: torch.Size([1, 480, 640]), y_hat: torch.Size([1, 5, 480, 640])\n",
      "Epoch 28:  50%|█████     | 1/2 [00:00<00:00,  5.78it/s, loss=0.0913, v_num=23]x: torch.Size([1, 3, 480, 640]), y: torch.Size([1, 480, 640]), y_hat: torch.Size([1, 5, 480, 640])\n",
      "Epoch 28: 100%|██████████| 2/2 [00:00<00:00,  5.73it/s, loss=0.0913, v_num=23]"
     ]
    },
    {
     "name": "stderr",
     "output_type": "stream",
     "text": [
      "Metric loss improved by 0.002 >= min_delta = 0.0005. New best score: 0.061\n"
     ]
    },
    {
     "name": "stdout",
     "output_type": "stream",
     "text": [
      "Epoch 29:   0%|          | 0/2 [00:00<?, ?it/s, loss=0.0913, v_num=23]        x: torch.Size([1, 3, 480, 640]), y: torch.Size([1, 480, 640]), y_hat: torch.Size([1, 5, 480, 640])\n",
      "Epoch 29:  50%|█████     | 1/2 [00:00<00:00,  4.61it/s, loss=0.087, v_num=23] x: torch.Size([1, 3, 480, 640]), y: torch.Size([1, 480, 640]), y_hat: torch.Size([1, 5, 480, 640])\n",
      "Epoch 29: 100%|██████████| 2/2 [00:00<00:00,  4.62it/s, loss=0.087, v_num=23]"
     ]
    },
    {
     "name": "stderr",
     "output_type": "stream",
     "text": [
      "Metric loss improved by 0.002 >= min_delta = 0.0005. New best score: 0.059\n"
     ]
    },
    {
     "name": "stdout",
     "output_type": "stream",
     "text": [
      "Epoch 30:   0%|          | 0/2 [00:00<?, ?it/s, loss=0.087, v_num=23]        x: torch.Size([1, 3, 480, 640]), y: torch.Size([1, 480, 640]), y_hat: torch.Size([1, 5, 480, 640])\n",
      "Epoch 30:  50%|█████     | 1/2 [00:00<00:00,  5.56it/s, loss=0.0831, v_num=23]x: torch.Size([1, 3, 480, 640]), y: torch.Size([1, 480, 640]), y_hat: torch.Size([1, 5, 480, 640])\n",
      "Epoch 30: 100%|██████████| 2/2 [00:00<00:00,  5.62it/s, loss=0.0831, v_num=23]"
     ]
    },
    {
     "name": "stderr",
     "output_type": "stream",
     "text": [
      "Metric loss improved by 0.002 >= min_delta = 0.0005. New best score: 0.057\n"
     ]
    },
    {
     "name": "stdout",
     "output_type": "stream",
     "text": [
      "Epoch 31:   0%|          | 0/2 [00:00<?, ?it/s, loss=0.0831, v_num=23]        x: torch.Size([1, 3, 480, 640]), y: torch.Size([1, 480, 640]), y_hat: torch.Size([1, 5, 480, 640])\n",
      "Epoch 31:  50%|█████     | 1/2 [00:00<00:00,  5.62it/s, loss=0.0794, v_num=23]x: torch.Size([1, 3, 480, 640]), y: torch.Size([1, 480, 640]), y_hat: torch.Size([1, 5, 480, 640])\n",
      "Epoch 31: 100%|██████████| 2/2 [00:00<00:00,  5.31it/s, loss=0.0794, v_num=23]"
     ]
    },
    {
     "name": "stderr",
     "output_type": "stream",
     "text": [
      "Metric loss improved by 0.001 >= min_delta = 0.0005. New best score: 0.056\n"
     ]
    },
    {
     "name": "stdout",
     "output_type": "stream",
     "text": [
      "Epoch 32:   0%|          | 0/2 [00:00<?, ?it/s, loss=0.0794, v_num=23]        x: torch.Size([1, 3, 480, 640]), y: torch.Size([1, 480, 640]), y_hat: torch.Size([1, 5, 480, 640])\n",
      "Epoch 32:  50%|█████     | 1/2 [00:00<00:00,  3.49it/s, loss=0.076, v_num=23] x: torch.Size([1, 3, 480, 640]), y: torch.Size([1, 480, 640]), y_hat: torch.Size([1, 5, 480, 640])\n",
      "Epoch 32: 100%|██████████| 2/2 [00:00<00:00,  4.43it/s, loss=0.076, v_num=23]"
     ]
    },
    {
     "name": "stderr",
     "output_type": "stream",
     "text": [
      "Metric loss improved by 0.001 >= min_delta = 0.0005. New best score: 0.054\n"
     ]
    },
    {
     "name": "stdout",
     "output_type": "stream",
     "text": [
      "Epoch 33:   0%|          | 0/2 [00:00<?, ?it/s, loss=0.076, v_num=23]        x: torch.Size([1, 3, 480, 640]), y: torch.Size([1, 480, 640]), y_hat: torch.Size([1, 5, 480, 640])\n",
      "Epoch 33:  50%|█████     | 1/2 [00:00<00:00,  4.60it/s, loss=0.073, v_num=23]x: torch.Size([1, 3, 480, 640]), y: torch.Size([1, 480, 640]), y_hat: torch.Size([1, 5, 480, 640])\n",
      "Epoch 33: 100%|██████████| 2/2 [00:00<00:00,  4.86it/s, loss=0.073, v_num=23]"
     ]
    },
    {
     "name": "stderr",
     "output_type": "stream",
     "text": [
      "Metric loss improved by 0.001 >= min_delta = 0.0005. New best score: 0.053\n"
     ]
    },
    {
     "name": "stdout",
     "output_type": "stream",
     "text": [
      "Epoch 34:   0%|          | 0/2 [00:00<?, ?it/s, loss=0.073, v_num=23]        x: torch.Size([1, 3, 480, 640]), y: torch.Size([1, 480, 640]), y_hat: torch.Size([1, 5, 480, 640])\n",
      "Epoch 34:  50%|█████     | 1/2 [00:00<00:00,  4.48it/s, loss=0.0702, v_num=23]x: torch.Size([1, 3, 480, 640]), y: torch.Size([1, 480, 640]), y_hat: torch.Size([1, 5, 480, 640])\n",
      "Epoch 34: 100%|██████████| 2/2 [00:00<00:00,  5.23it/s, loss=0.0702, v_num=23]"
     ]
    },
    {
     "name": "stderr",
     "output_type": "stream",
     "text": [
      "Metric loss improved by 0.001 >= min_delta = 0.0005. New best score: 0.052\n"
     ]
    },
    {
     "name": "stdout",
     "output_type": "stream",
     "text": [
      "Epoch 35:   0%|          | 0/2 [00:00<?, ?it/s, loss=0.0702, v_num=23]        x: torch.Size([1, 3, 480, 640]), y: torch.Size([1, 480, 640]), y_hat: torch.Size([1, 5, 480, 640])\n",
      "Epoch 35:  50%|█████     | 1/2 [00:00<00:00,  5.53it/s, loss=0.0677, v_num=23]x: torch.Size([1, 3, 480, 640]), y: torch.Size([1, 480, 640]), y_hat: torch.Size([1, 5, 480, 640])\n",
      "Epoch 35: 100%|██████████| 2/2 [00:00<00:00,  6.04it/s, loss=0.0677, v_num=23]"
     ]
    },
    {
     "name": "stderr",
     "output_type": "stream",
     "text": [
      "Metric loss improved by 0.001 >= min_delta = 0.0005. New best score: 0.051\n"
     ]
    },
    {
     "name": "stdout",
     "output_type": "stream",
     "text": [
      "Epoch 36:   0%|          | 0/2 [00:00<?, ?it/s, loss=0.0677, v_num=23]        x: torch.Size([1, 3, 480, 640]), y: torch.Size([1, 480, 640]), y_hat: torch.Size([1, 5, 480, 640])\n",
      "Epoch 36:  50%|█████     | 1/2 [00:00<00:00,  4.58it/s, loss=0.0654, v_num=23]x: torch.Size([1, 3, 480, 640]), y: torch.Size([1, 480, 640]), y_hat: torch.Size([1, 5, 480, 640])\n",
      "Epoch 36: 100%|██████████| 2/2 [00:00<00:00,  5.32it/s, loss=0.0654, v_num=23]"
     ]
    },
    {
     "name": "stderr",
     "output_type": "stream",
     "text": [
      "Metric loss improved by 0.001 >= min_delta = 0.0005. New best score: 0.050\n"
     ]
    },
    {
     "name": "stdout",
     "output_type": "stream",
     "text": [
      "Epoch 37:   0%|          | 0/2 [00:00<?, ?it/s, loss=0.0654, v_num=23]        x: torch.Size([1, 3, 480, 640]), y: torch.Size([1, 480, 640]), y_hat: torch.Size([1, 5, 480, 640])\n",
      "Epoch 37:  50%|█████     | 1/2 [00:00<00:00,  4.38it/s, loss=0.0633, v_num=23]x: torch.Size([1, 3, 480, 640]), y: torch.Size([1, 480, 640]), y_hat: torch.Size([1, 5, 480, 640])\n",
      "Epoch 37: 100%|██████████| 2/2 [00:00<00:00,  5.23it/s, loss=0.0633, v_num=23]"
     ]
    },
    {
     "name": "stderr",
     "output_type": "stream",
     "text": [
      "Metric loss improved by 0.001 >= min_delta = 0.0005. New best score: 0.049\n"
     ]
    },
    {
     "name": "stdout",
     "output_type": "stream",
     "text": [
      "Epoch 38:   0%|          | 0/2 [00:00<?, ?it/s, loss=0.0633, v_num=23]        x: torch.Size([1, 3, 480, 640]), y: torch.Size([1, 480, 640]), y_hat: torch.Size([1, 5, 480, 640])\n",
      "Epoch 38:  50%|█████     | 1/2 [00:00<00:00,  4.69it/s, loss=0.0614, v_num=23]x: torch.Size([1, 3, 480, 640]), y: torch.Size([1, 480, 640]), y_hat: torch.Size([1, 5, 480, 640])\n",
      "Epoch 38: 100%|██████████| 2/2 [00:00<00:00,  5.39it/s, loss=0.0614, v_num=23]"
     ]
    },
    {
     "name": "stderr",
     "output_type": "stream",
     "text": [
      "Metric loss improved by 0.001 >= min_delta = 0.0005. New best score: 0.048\n"
     ]
    },
    {
     "name": "stdout",
     "output_type": "stream",
     "text": [
      "Epoch 39:   0%|          | 0/2 [00:00<?, ?it/s, loss=0.0614, v_num=23]        x: torch.Size([1, 3, 480, 640]), y: torch.Size([1, 480, 640]), y_hat: torch.Size([1, 5, 480, 640])\n",
      "Epoch 39:  50%|█████     | 1/2 [00:00<00:00,  4.47it/s, loss=0.0597, v_num=23]x: torch.Size([1, 3, 480, 640]), y: torch.Size([1, 480, 640]), y_hat: torch.Size([1, 5, 480, 640])\n",
      "Epoch 39: 100%|██████████| 2/2 [00:00<00:00,  4.71it/s, loss=0.0597, v_num=23]"
     ]
    },
    {
     "name": "stderr",
     "output_type": "stream",
     "text": [
      "Metric loss improved by 0.001 >= min_delta = 0.0005. New best score: 0.047\n"
     ]
    },
    {
     "name": "stdout",
     "output_type": "stream",
     "text": [
      "Epoch 40:   0%|          | 0/2 [00:00<?, ?it/s, loss=0.0597, v_num=23]        x: torch.Size([1, 3, 480, 640]), y: torch.Size([1, 480, 640]), y_hat: torch.Size([1, 5, 480, 640])\n",
      "Epoch 40:  50%|█████     | 1/2 [00:00<00:00,  4.58it/s, loss=0.0581, v_num=23]x: torch.Size([1, 3, 480, 640]), y: torch.Size([1, 480, 640]), y_hat: torch.Size([1, 5, 480, 640])\n",
      "Epoch 40: 100%|██████████| 2/2 [00:00<00:00,  4.87it/s, loss=0.0581, v_num=23]"
     ]
    },
    {
     "name": "stderr",
     "output_type": "stream",
     "text": [
      "Metric loss improved by 0.001 >= min_delta = 0.0005. New best score: 0.046\n"
     ]
    },
    {
     "name": "stdout",
     "output_type": "stream",
     "text": [
      "Epoch 41:   0%|          | 0/2 [00:00<?, ?it/s, loss=0.0581, v_num=23]        x: torch.Size([1, 3, 480, 640]), y: torch.Size([1, 480, 640]), y_hat: torch.Size([1, 5, 480, 640])\n",
      "Epoch 41:  50%|█████     | 1/2 [00:00<00:00,  4.02it/s, loss=0.0566, v_num=23]x: torch.Size([1, 3, 480, 640]), y: torch.Size([1, 480, 640]), y_hat: torch.Size([1, 5, 480, 640])\n",
      "Epoch 41: 100%|██████████| 2/2 [00:00<00:00,  4.52it/s, loss=0.0566, v_num=23]"
     ]
    },
    {
     "name": "stderr",
     "output_type": "stream",
     "text": [
      "Metric loss improved by 0.001 >= min_delta = 0.0005. New best score: 0.045\n"
     ]
    },
    {
     "name": "stdout",
     "output_type": "stream",
     "text": [
      "Epoch 42:   0%|          | 0/2 [00:00<?, ?it/s, loss=0.0566, v_num=23]        x: torch.Size([1, 3, 480, 640]), y: torch.Size([1, 480, 640]), y_hat: torch.Size([1, 5, 480, 640])\n",
      "Epoch 42:  50%|█████     | 1/2 [00:00<00:00,  5.01it/s, loss=0.0552, v_num=23]x: torch.Size([1, 3, 480, 640]), y: torch.Size([1, 480, 640]), y_hat: torch.Size([1, 5, 480, 640])\n",
      "Epoch 42: 100%|██████████| 2/2 [00:00<00:00,  5.04it/s, loss=0.0552, v_num=23]"
     ]
    },
    {
     "name": "stderr",
     "output_type": "stream",
     "text": [
      "Metric loss improved by 0.001 >= min_delta = 0.0005. New best score: 0.045\n"
     ]
    },
    {
     "name": "stdout",
     "output_type": "stream",
     "text": [
      "Epoch 43:   0%|          | 0/2 [00:00<?, ?it/s, loss=0.0552, v_num=23]        x: torch.Size([1, 3, 480, 640]), y: torch.Size([1, 480, 640]), y_hat: torch.Size([1, 5, 480, 640])\n",
      "Epoch 43:  50%|█████     | 1/2 [00:00<00:00,  4.57it/s, loss=0.0539, v_num=23]x: torch.Size([1, 3, 480, 640]), y: torch.Size([1, 480, 640]), y_hat: torch.Size([1, 5, 480, 640])\n",
      "Epoch 43: 100%|██████████| 2/2 [00:00<00:00,  4.71it/s, loss=0.0539, v_num=23]"
     ]
    },
    {
     "name": "stderr",
     "output_type": "stream",
     "text": [
      "Metric loss improved by 0.001 >= min_delta = 0.0005. New best score: 0.044\n"
     ]
    },
    {
     "name": "stdout",
     "output_type": "stream",
     "text": [
      "Epoch 44:   0%|          | 0/2 [00:00<?, ?it/s, loss=0.0539, v_num=23]        x: torch.Size([1, 3, 480, 640]), y: torch.Size([1, 480, 640]), y_hat: torch.Size([1, 5, 480, 640])\n",
      "Epoch 44:  50%|█████     | 1/2 [00:00<00:00,  4.90it/s, loss=0.0527, v_num=23]x: torch.Size([1, 3, 480, 640]), y: torch.Size([1, 480, 640]), y_hat: torch.Size([1, 5, 480, 640])\n",
      "Epoch 44: 100%|██████████| 2/2 [00:00<00:00,  4.88it/s, loss=0.0527, v_num=23]"
     ]
    },
    {
     "name": "stderr",
     "output_type": "stream",
     "text": [
      "Metric loss improved by 0.001 >= min_delta = 0.0005. New best score: 0.043\n"
     ]
    },
    {
     "name": "stdout",
     "output_type": "stream",
     "text": [
      "Epoch 45:   0%|          | 0/2 [00:00<?, ?it/s, loss=0.0527, v_num=23]        x: torch.Size([1, 3, 480, 640]), y: torch.Size([1, 480, 640]), y_hat: torch.Size([1, 5, 480, 640])\n",
      "Epoch 45:  50%|█████     | 1/2 [00:00<00:00,  4.49it/s, loss=0.0515, v_num=23]x: torch.Size([1, 3, 480, 640]), y: torch.Size([1, 480, 640]), y_hat: torch.Size([1, 5, 480, 640])\n",
      "Epoch 45: 100%|██████████| 2/2 [00:00<00:00,  4.85it/s, loss=0.0515, v_num=23]"
     ]
    },
    {
     "name": "stderr",
     "output_type": "stream",
     "text": [
      "Metric loss improved by 0.001 >= min_delta = 0.0005. New best score: 0.043\n"
     ]
    },
    {
     "name": "stdout",
     "output_type": "stream",
     "text": [
      "Epoch 46:   0%|          | 0/2 [00:00<?, ?it/s, loss=0.0515, v_num=23]        x: torch.Size([1, 3, 480, 640]), y: torch.Size([1, 480, 640]), y_hat: torch.Size([1, 5, 480, 640])\n",
      "Epoch 46:  50%|█████     | 1/2 [00:00<00:00,  4.72it/s, loss=0.0504, v_num=23]x: torch.Size([1, 3, 480, 640]), y: torch.Size([1, 480, 640]), y_hat: torch.Size([1, 5, 480, 640])\n",
      "Epoch 46: 100%|██████████| 2/2 [00:00<00:00,  4.63it/s, loss=0.0504, v_num=23]"
     ]
    },
    {
     "name": "stderr",
     "output_type": "stream",
     "text": [
      "Metric loss improved by 0.001 >= min_delta = 0.0005. New best score: 0.042\n"
     ]
    },
    {
     "name": "stdout",
     "output_type": "stream",
     "text": [
      "Epoch 110:  50%|█████     | 1/2 [00:21<00:21, 21.85s/it, loss=0.285, v_num=22]\n",
      "x: torch.Size([1, 3, 480, 640]), y: torch.Size([1, 480, 640]), y_hat: torch.Size([1, 5, 480, 640])\n",
      "Epoch 47:  50%|█████     | 1/2 [00:00<00:00,  4.21it/s, loss=0.0493, v_num=23]x: torch.Size([1, 3, 480, 640]), y: torch.Size([1, 480, 640]), y_hat: torch.Size([1, 5, 480, 640])\n",
      "Epoch 47: 100%|██████████| 2/2 [00:00<00:00,  4.65it/s, loss=0.0493, v_num=23]"
     ]
    },
    {
     "name": "stderr",
     "output_type": "stream",
     "text": [
      "Metric loss improved by 0.001 >= min_delta = 0.0005. New best score: 0.041\n"
     ]
    },
    {
     "name": "stdout",
     "output_type": "stream",
     "text": [
      "Epoch 48:   0%|          | 0/2 [00:00<?, ?it/s, loss=0.0493, v_num=23]        x: torch.Size([1, 3, 480, 640]), y: torch.Size([1, 480, 640]), y_hat: torch.Size([1, 5, 480, 640])\n",
      "Epoch 48:  50%|█████     | 1/2 [00:00<00:00,  4.95it/s, loss=0.0483, v_num=23]x: torch.Size([1, 3, 480, 640]), y: torch.Size([1, 480, 640]), y_hat: torch.Size([1, 5, 480, 640])\n",
      "Epoch 48: 100%|██████████| 2/2 [00:00<00:00,  5.06it/s, loss=0.0483, v_num=23]"
     ]
    },
    {
     "name": "stderr",
     "output_type": "stream",
     "text": [
      "Metric loss improved by 0.001 >= min_delta = 0.0005. New best score: 0.041\n"
     ]
    },
    {
     "name": "stdout",
     "output_type": "stream",
     "text": [
      "Epoch 49:   0%|          | 0/2 [00:00<?, ?it/s, loss=0.0483, v_num=23]        x: torch.Size([1, 3, 480, 640]), y: torch.Size([1, 480, 640]), y_hat: torch.Size([1, 5, 480, 640])\n",
      "Epoch 49:  50%|█████     | 1/2 [00:00<00:00,  5.29it/s, loss=0.0474, v_num=23]x: torch.Size([1, 3, 480, 640]), y: torch.Size([1, 480, 640]), y_hat: torch.Size([1, 5, 480, 640])\n",
      "Epoch 49: 100%|██████████| 2/2 [00:00<00:00,  5.21it/s, loss=0.0474, v_num=23]"
     ]
    },
    {
     "name": "stderr",
     "output_type": "stream",
     "text": [
      "Metric loss improved by 0.001 >= min_delta = 0.0005. New best score: 0.040\n"
     ]
    },
    {
     "name": "stdout",
     "output_type": "stream",
     "text": [
      "Epoch 49: 100%|██████████| 2/2 [00:00<00:00,  5.12it/s, loss=0.0474, v_num=23]Epoch 00050: reducing learning rate of group 0 to 3.9062e-03.\n",
      "Epoch 50:   0%|          | 0/2 [00:00<?, ?it/s, loss=0.0474, v_num=23]        x: torch.Size([1, 3, 480, 640]), y: torch.Size([1, 480, 640]), y_hat: torch.Size([1, 5, 480, 640])\n",
      "Epoch 50:  50%|█████     | 1/2 [00:00<00:00,  4.64it/s, loss=0.0465, v_num=23]x: torch.Size([1, 3, 480, 640]), y: torch.Size([1, 480, 640]), y_hat: torch.Size([1, 5, 480, 640])\n",
      "Epoch 50: 100%|██████████| 2/2 [00:00<00:00,  4.68it/s, loss=0.0465, v_num=23]"
     ]
    },
    {
     "name": "stderr",
     "output_type": "stream",
     "text": [
      "Metric loss improved by 0.001 >= min_delta = 0.0005. New best score: 0.040\n"
     ]
    },
    {
     "name": "stdout",
     "output_type": "stream",
     "text": [
      "Epoch 51:   0%|          | 0/2 [00:00<?, ?it/s, loss=0.0465, v_num=23]        x: torch.Size([1, 3, 480, 640]), y: torch.Size([1, 480, 640]), y_hat: torch.Size([1, 5, 480, 640])\n",
      "Epoch 51:  50%|█████     | 1/2 [00:00<00:00,  5.36it/s, loss=0.0457, v_num=23]x: torch.Size([1, 3, 480, 640]), y: torch.Size([1, 480, 640]), y_hat: torch.Size([1, 5, 480, 640])\n",
      "Epoch 52:   0%|          | 0/2 [00:00<?, ?it/s, loss=0.0457, v_num=23]        x: torch.Size([1, 3, 480, 640]), y: torch.Size([1, 480, 640]), y_hat: torch.Size([1, 5, 480, 640])\n",
      "Epoch 52:  50%|█████     | 1/2 [00:00<00:00,  5.06it/s, loss=0.045, v_num=23] x: torch.Size([1, 3, 480, 640]), y: torch.Size([1, 480, 640]), y_hat: torch.Size([1, 5, 480, 640])\n",
      "Epoch 53:   0%|          | 0/2 [00:00<?, ?it/s, loss=0.045, v_num=23]        x: torch.Size([1, 3, 480, 640]), y: torch.Size([1, 480, 640]), y_hat: torch.Size([1, 5, 480, 640])\n",
      "Epoch 53:  50%|█████     | 1/2 [00:00<00:00,  5.33it/s, loss=0.0443, v_num=23]x: torch.Size([1, 3, 480, 640]), y: torch.Size([1, 480, 640]), y_hat: torch.Size([1, 5, 480, 640])\n",
      "Epoch 53: 100%|██████████| 2/2 [00:00<00:00,  5.31it/s, loss=0.0443, v_num=23]Epoch 00054: reducing learning rate of group 0 to 9.7656e-04.\n",
      "Epoch 54:   0%|          | 0/2 [00:00<?, ?it/s, loss=0.0443, v_num=23]        x: torch.Size([1, 3, 480, 640]), y: torch.Size([1, 480, 640]), y_hat: torch.Size([1, 5, 480, 640])\n",
      "Epoch 54:  50%|█████     | 1/2 [00:00<00:00,  5.19it/s, loss=0.0436, v_num=23]x: torch.Size([1, 3, 480, 640]), y: torch.Size([1, 480, 640]), y_hat: torch.Size([1, 5, 480, 640])\n",
      "Epoch 54: 100%|██████████| 2/2 [00:00<00:00,  5.21it/s, loss=0.0436, v_num=23]"
     ]
    },
    {
     "name": "stderr",
     "output_type": "stream",
     "text": [
      "Metric loss improved by 0.001 >= min_delta = 0.0005. New best score: 0.039\n"
     ]
    },
    {
     "name": "stdout",
     "output_type": "stream",
     "text": [
      "Epoch 55:   0%|          | 0/2 [00:00<?, ?it/s, loss=0.0436, v_num=23]        x: torch.Size([1, 3, 480, 640]), y: torch.Size([1, 480, 640]), y_hat: torch.Size([1, 5, 480, 640])\n",
      "Epoch 55:  50%|█████     | 1/2 [00:00<00:00,  5.53it/s, loss=0.0431, v_num=23]x: torch.Size([1, 3, 480, 640]), y: torch.Size([1, 480, 640]), y_hat: torch.Size([1, 5, 480, 640])\n",
      "Epoch 56:   0%|          | 0/2 [00:00<?, ?it/s, loss=0.0431, v_num=23]        x: torch.Size([1, 3, 480, 640]), y: torch.Size([1, 480, 640]), y_hat: torch.Size([1, 5, 480, 640])\n",
      "Epoch 56:  50%|█████     | 1/2 [00:00<00:00,  5.47it/s, loss=0.0425, v_num=23]x: torch.Size([1, 3, 480, 640]), y: torch.Size([1, 480, 640]), y_hat: torch.Size([1, 5, 480, 640])\n",
      "Epoch 57:   0%|          | 0/2 [00:00<?, ?it/s, loss=0.0425, v_num=23]        x: torch.Size([1, 3, 480, 640]), y: torch.Size([1, 480, 640]), y_hat: torch.Size([1, 5, 480, 640])\n",
      "Epoch 57:  50%|█████     | 1/2 [00:00<00:00,  5.63it/s, loss=0.042, v_num=23] x: torch.Size([1, 3, 480, 640]), y: torch.Size([1, 480, 640]), y_hat: torch.Size([1, 5, 480, 640])\n",
      "Epoch 57: 100%|██████████| 2/2 [00:00<00:00,  5.45it/s, loss=0.042, v_num=23]Epoch 00058: reducing learning rate of group 0 to 2.4414e-04.\n",
      "Epoch 58:   0%|          | 0/2 [00:00<?, ?it/s, loss=0.042, v_num=23]        x: torch.Size([1, 3, 480, 640]), y: torch.Size([1, 480, 640]), y_hat: torch.Size([1, 5, 480, 640])\n",
      "Epoch 58:  50%|█████     | 1/2 [00:00<00:00,  4.64it/s, loss=0.0416, v_num=23]x: torch.Size([1, 3, 480, 640]), y: torch.Size([1, 480, 640]), y_hat: torch.Size([1, 5, 480, 640])\n",
      "Epoch 59:   0%|          | 0/2 [00:00<?, ?it/s, loss=0.0416, v_num=23]        x: torch.Size([1, 3, 480, 640]), y: torch.Size([1, 480, 640]), y_hat: torch.Size([1, 5, 480, 640])\n",
      "Epoch 59:  50%|█████     | 1/2 [00:00<00:00,  5.16it/s, loss=0.0412, v_num=23]x: torch.Size([1, 3, 480, 640]), y: torch.Size([1, 480, 640]), y_hat: torch.Size([1, 5, 480, 640])\n",
      "Epoch 60:   0%|          | 0/2 [00:00<?, ?it/s, loss=0.0412, v_num=23]        x: torch.Size([1, 3, 480, 640]), y: torch.Size([1, 480, 640]), y_hat: torch.Size([1, 5, 480, 640])\n",
      "Epoch 60:  50%|█████     | 1/2 [00:00<00:00,  4.55it/s, loss=0.0408, v_num=23]x: torch.Size([1, 3, 480, 640]), y: torch.Size([1, 480, 640]), y_hat: torch.Size([1, 5, 480, 640])\n",
      "Epoch 61:   0%|          | 0/2 [00:00<?, ?it/s, loss=0.0408, v_num=23]        x: torch.Size([1, 3, 480, 640]), y: torch.Size([1, 480, 640]), y_hat: torch.Size([1, 5, 480, 640])\n",
      "Epoch 61:  50%|█████     | 1/2 [00:00<00:00,  4.83it/s, loss=0.0405, v_num=23]x: torch.Size([1, 3, 480, 640]), y: torch.Size([1, 480, 640]), y_hat: torch.Size([1, 5, 480, 640])\n",
      "Epoch 61: 100%|██████████| 2/2 [00:00<00:00,  5.01it/s, loss=0.0405, v_num=23]Epoch 00062: reducing learning rate of group 0 to 6.1035e-05.\n",
      "Epoch 62:   0%|          | 0/2 [00:00<?, ?it/s, loss=0.0405, v_num=23]        x: torch.Size([1, 3, 480, 640]), y: torch.Size([1, 480, 640]), y_hat: torch.Size([1, 5, 480, 640])\n",
      "Epoch 62:  50%|█████     | 1/2 [00:00<00:00,  5.51it/s, loss=0.0402, v_num=23]x: torch.Size([1, 3, 480, 640]), y: torch.Size([1, 480, 640]), y_hat: torch.Size([1, 5, 480, 640])\n",
      "Epoch 63:   0%|          | 0/2 [00:00<?, ?it/s, loss=0.0402, v_num=23]        x: torch.Size([1, 3, 480, 640]), y: torch.Size([1, 480, 640]), y_hat: torch.Size([1, 5, 480, 640])\n",
      "Epoch 63:  50%|█████     | 1/2 [00:00<00:00,  5.27it/s, loss=0.0399, v_num=23]x: torch.Size([1, 3, 480, 640]), y: torch.Size([1, 480, 640]), y_hat: torch.Size([1, 5, 480, 640])\n",
      "Epoch 64:   0%|          | 0/2 [00:00<?, ?it/s, loss=0.0399, v_num=23]        x: torch.Size([1, 3, 480, 640]), y: torch.Size([1, 480, 640]), y_hat: torch.Size([1, 5, 480, 640])\n",
      "Epoch 64:  50%|█████     | 1/2 [00:00<00:00,  5.51it/s, loss=0.0397, v_num=23]x: torch.Size([1, 3, 480, 640]), y: torch.Size([1, 480, 640]), y_hat: torch.Size([1, 5, 480, 640])\n",
      "Epoch 65:   0%|          | 0/2 [00:00<?, ?it/s, loss=0.0397, v_num=23]        x: torch.Size([1, 3, 480, 640]), y: torch.Size([1, 480, 640]), y_hat: torch.Size([1, 5, 480, 640])\n",
      "Epoch 65:  50%|█████     | 1/2 [00:00<00:00,  5.38it/s, loss=0.0395, v_num=23]x: torch.Size([1, 3, 480, 640]), y: torch.Size([1, 480, 640]), y_hat: torch.Size([1, 5, 480, 640])\n",
      "Epoch 65: 100%|██████████| 2/2 [00:00<00:00,  5.21it/s, loss=0.0395, v_num=23]Epoch 00066: reducing learning rate of group 0 to 1.5259e-05.\n",
      "Epoch 66:   0%|          | 0/2 [00:00<?, ?it/s, loss=0.0395, v_num=23]        x: torch.Size([1, 3, 480, 640]), y: torch.Size([1, 480, 640]), y_hat: torch.Size([1, 5, 480, 640])\n",
      "Epoch 66:  50%|█████     | 1/2 [00:00<00:00,  5.29it/s, loss=0.0394, v_num=23]x: torch.Size([1, 3, 480, 640]), y: torch.Size([1, 480, 640]), y_hat: torch.Size([1, 5, 480, 640])\n",
      "Epoch 67:   0%|          | 0/2 [00:00<?, ?it/s, loss=0.0394, v_num=23]        x: torch.Size([1, 3, 480, 640]), y: torch.Size([1, 480, 640]), y_hat: torch.Size([1, 5, 480, 640])\n",
      "Epoch 67:  50%|█████     | 1/2 [00:00<00:00,  4.92it/s, loss=0.0392, v_num=23]x: torch.Size([1, 3, 480, 640]), y: torch.Size([1, 480, 640]), y_hat: torch.Size([1, 5, 480, 640])\n",
      "Epoch 68:   0%|          | 0/2 [00:00<?, ?it/s, loss=0.0392, v_num=23]        x: torch.Size([1, 3, 480, 640]), y: torch.Size([1, 480, 640]), y_hat: torch.Size([1, 5, 480, 640])\n",
      "Epoch 68:  50%|█████     | 1/2 [00:00<00:00,  3.69it/s, loss=0.0391, v_num=23]x: torch.Size([1, 3, 480, 640]), y: torch.Size([1, 480, 640]), y_hat: torch.Size([1, 5, 480, 640])\n",
      "Epoch 69:   0%|          | 0/2 [00:00<?, ?it/s, loss=0.0391, v_num=23]        x: torch.Size([1, 3, 480, 640]), y: torch.Size([1, 480, 640]), y_hat: torch.Size([1, 5, 480, 640])\n",
      "Epoch 69:  50%|█████     | 1/2 [00:00<00:00,  4.47it/s, loss=0.0391, v_num=23]x: torch.Size([1, 3, 480, 640]), y: torch.Size([1, 480, 640]), y_hat: torch.Size([1, 5, 480, 640])\n",
      "Epoch 69: 100%|██████████| 2/2 [00:00<00:00,  4.94it/s, loss=0.0391, v_num=23]Epoch 00070: reducing learning rate of group 0 to 3.8147e-06.\n",
      "Epoch 70:   0%|          | 0/2 [00:00<?, ?it/s, loss=0.0391, v_num=23]        x: torch.Size([1, 3, 480, 640]), y: torch.Size([1, 480, 640]), y_hat: torch.Size([1, 5, 480, 640])\n",
      "Epoch 70:  50%|█████     | 1/2 [00:00<00:00,  4.90it/s, loss=0.039, v_num=23] x: torch.Size([1, 3, 480, 640]), y: torch.Size([1, 480, 640]), y_hat: torch.Size([1, 5, 480, 640])\n",
      "Epoch 71:   0%|          | 0/2 [00:00<?, ?it/s, loss=0.039, v_num=23]        x: torch.Size([1, 3, 480, 640]), y: torch.Size([1, 480, 640]), y_hat: torch.Size([1, 5, 480, 640])\n",
      "Epoch 71:  50%|█████     | 1/2 [00:00<00:00,  5.20it/s, loss=0.039, v_num=23]x: torch.Size([1, 3, 480, 640]), y: torch.Size([1, 480, 640]), y_hat: torch.Size([1, 5, 480, 640])\n",
      "Epoch 72:   0%|          | 0/2 [00:00<?, ?it/s, loss=0.039, v_num=23]        x: torch.Size([1, 3, 480, 640]), y: torch.Size([1, 480, 640]), y_hat: torch.Size([1, 5, 480, 640])\n",
      "Epoch 72:  50%|█████     | 1/2 [00:00<00:00,  4.46it/s, loss=0.039, v_num=23]x: torch.Size([1, 3, 480, 640]), y: torch.Size([1, 480, 640]), y_hat: torch.Size([1, 5, 480, 640])\n",
      "Epoch 73:   0%|          | 0/2 [00:00<?, ?it/s, loss=0.039, v_num=23]        x: torch.Size([1, 3, 480, 640]), y: torch.Size([1, 480, 640]), y_hat: torch.Size([1, 5, 480, 640])\n",
      "Epoch 73:  50%|█████     | 1/2 [00:00<00:00,  4.28it/s, loss=0.039, v_num=23]x: torch.Size([1, 3, 480, 640]), y: torch.Size([1, 480, 640]), y_hat: torch.Size([1, 5, 480, 640])\n",
      "Epoch 73: 100%|██████████| 2/2 [00:00<00:00,  4.59it/s, loss=0.039, v_num=23]Epoch 00074: reducing learning rate of group 0 to 9.5367e-07.\n",
      "Epoch 74:   0%|          | 0/2 [00:00<?, ?it/s, loss=0.039, v_num=23]        x: torch.Size([1, 3, 480, 640]), y: torch.Size([1, 480, 640]), y_hat: torch.Size([1, 5, 480, 640])\n",
      "Epoch 74:  50%|█████     | 1/2 [00:00<00:00,  4.35it/s, loss=0.039, v_num=23]x: torch.Size([1, 3, 480, 640]), y: torch.Size([1, 480, 640]), y_hat: torch.Size([1, 5, 480, 640])\n",
      "Epoch 75:   0%|          | 0/2 [00:00<?, ?it/s, loss=0.039, v_num=23]        x: torch.Size([1, 3, 480, 640]), y: torch.Size([1, 480, 640]), y_hat: torch.Size([1, 5, 480, 640])\n",
      "Epoch 75:  50%|█████     | 1/2 [00:00<00:00,  4.34it/s, loss=0.0389, v_num=23]x: torch.Size([1, 3, 480, 640]), y: torch.Size([1, 480, 640]), y_hat: torch.Size([1, 5, 480, 640])\n",
      "Epoch 76:   0%|          | 0/2 [00:00<?, ?it/s, loss=0.0389, v_num=23]        x: torch.Size([1, 3, 480, 640]), y: torch.Size([1, 480, 640]), y_hat: torch.Size([1, 5, 480, 640])\n",
      "Epoch 76:  50%|█████     | 1/2 [00:00<00:00,  4.48it/s, loss=0.0389, v_num=23]x: torch.Size([1, 3, 480, 640]), y: torch.Size([1, 480, 640]), y_hat: torch.Size([1, 5, 480, 640])\n",
      "Epoch 77:   0%|          | 0/2 [00:00<?, ?it/s, loss=0.0389, v_num=23]        x: torch.Size([1, 3, 480, 640]), y: torch.Size([1, 480, 640]), y_hat: torch.Size([1, 5, 480, 640])\n",
      "Epoch 77:  50%|█████     | 1/2 [00:00<00:00,  4.86it/s, loss=0.0389, v_num=23]x: torch.Size([1, 3, 480, 640]), y: torch.Size([1, 480, 640]), y_hat: torch.Size([1, 5, 480, 640])\n",
      "Epoch 77: 100%|██████████| 2/2 [00:00<00:00,  5.25it/s, loss=0.0389, v_num=23]Epoch 00078: reducing learning rate of group 0 to 2.3842e-07.\n",
      "Epoch 78:   0%|          | 0/2 [00:00<?, ?it/s, loss=0.0389, v_num=23]        x: torch.Size([1, 3, 480, 640]), y: torch.Size([1, 480, 640]), y_hat: torch.Size([1, 5, 480, 640])\n",
      "Epoch 78:  50%|█████     | 1/2 [00:00<00:00,  4.70it/s, loss=0.0389, v_num=23]x: torch.Size([1, 3, 480, 640]), y: torch.Size([1, 480, 640]), y_hat: torch.Size([1, 5, 480, 640])\n",
      "Epoch 79:   0%|          | 0/2 [00:00<?, ?it/s, loss=0.0389, v_num=23]        x: torch.Size([1, 3, 480, 640]), y: torch.Size([1, 480, 640]), y_hat: torch.Size([1, 5, 480, 640])\n",
      "Epoch 79:  50%|█████     | 1/2 [00:00<00:00,  4.50it/s, loss=0.0389, v_num=23]x: torch.Size([1, 3, 480, 640]), y: torch.Size([1, 480, 640]), y_hat: torch.Size([1, 5, 480, 640])\n",
      "Epoch 80:   0%|          | 0/2 [00:00<?, ?it/s, loss=0.0389, v_num=23]        x: torch.Size([1, 3, 480, 640]), y: torch.Size([1, 480, 640]), y_hat: torch.Size([1, 5, 480, 640])\n",
      "Epoch 80:  50%|█████     | 1/2 [00:00<00:00,  4.40it/s, loss=0.0389, v_num=23]x: torch.Size([1, 3, 480, 640]), y: torch.Size([1, 480, 640]), y_hat: torch.Size([1, 5, 480, 640])\n",
      "Epoch 81:   0%|          | 0/2 [00:00<?, ?it/s, loss=0.0389, v_num=23]        x: torch.Size([1, 3, 480, 640]), y: torch.Size([1, 480, 640]), y_hat: torch.Size([1, 5, 480, 640])\n",
      "Epoch 81:  50%|█████     | 1/2 [00:00<00:00,  4.79it/s, loss=0.0389, v_num=23]x: torch.Size([1, 3, 480, 640]), y: torch.Size([1, 480, 640]), y_hat: torch.Size([1, 5, 480, 640])\n",
      "Epoch 81: 100%|██████████| 2/2 [00:00<00:00,  5.31it/s, loss=0.0389, v_num=23]Epoch 00082: reducing learning rate of group 0 to 5.9605e-08.\n",
      "Epoch 82:   0%|          | 0/2 [00:00<?, ?it/s, loss=0.0389, v_num=23]        x: torch.Size([1, 3, 480, 640]), y: torch.Size([1, 480, 640]), y_hat: torch.Size([1, 5, 480, 640])\n",
      "Epoch 82:  50%|█████     | 1/2 [00:00<00:00,  4.63it/s, loss=0.0389, v_num=23]x: torch.Size([1, 3, 480, 640]), y: torch.Size([1, 480, 640]), y_hat: torch.Size([1, 5, 480, 640])\n",
      "Epoch 83:   0%|          | 0/2 [00:00<?, ?it/s, loss=0.0389, v_num=23]        x: torch.Size([1, 3, 480, 640]), y: torch.Size([1, 480, 640]), y_hat: torch.Size([1, 5, 480, 640])\n",
      "Epoch 83:  50%|█████     | 1/2 [00:00<00:00,  4.69it/s, loss=0.0389, v_num=23]x: torch.Size([1, 3, 480, 640]), y: torch.Size([1, 480, 640]), y_hat: torch.Size([1, 5, 480, 640])\n",
      "Epoch 84:   0%|          | 0/2 [00:00<?, ?it/s, loss=0.0389, v_num=23]        x: torch.Size([1, 3, 480, 640]), y: torch.Size([1, 480, 640]), y_hat: torch.Size([1, 5, 480, 640])\n",
      "Epoch 84:  50%|█████     | 1/2 [00:00<00:00,  4.08it/s, loss=0.0389, v_num=23]x: torch.Size([1, 3, 480, 640]), y: torch.Size([1, 480, 640]), y_hat: torch.Size([1, 5, 480, 640])\n",
      "Epoch 85:   0%|          | 0/2 [00:00<?, ?it/s, loss=0.0389, v_num=23]        x: torch.Size([1, 3, 480, 640]), y: torch.Size([1, 480, 640]), y_hat: torch.Size([1, 5, 480, 640])\n",
      "Epoch 85:  50%|█████     | 1/2 [00:00<00:00,  4.84it/s, loss=0.0389, v_num=23]x: torch.Size([1, 3, 480, 640]), y: torch.Size([1, 480, 640]), y_hat: torch.Size([1, 5, 480, 640])\n",
      "Epoch 85: 100%|██████████| 2/2 [00:00<00:00,  5.12it/s, loss=0.0389, v_num=23]Epoch 00086: reducing learning rate of group 0 to 1.4901e-08.\n",
      "Epoch 86:   0%|          | 0/2 [00:00<?, ?it/s, loss=0.0389, v_num=23]        x: torch.Size([1, 3, 480, 640]), y: torch.Size([1, 480, 640]), y_hat: torch.Size([1, 5, 480, 640])\n",
      "Epoch 86:  50%|█████     | 1/2 [00:00<00:00,  4.88it/s, loss=0.0389, v_num=23]x: torch.Size([1, 3, 480, 640]), y: torch.Size([1, 480, 640]), y_hat: torch.Size([1, 5, 480, 640])\n",
      "Epoch 87:   0%|          | 0/2 [00:00<?, ?it/s, loss=0.0389, v_num=23]        x: torch.Size([1, 3, 480, 640]), y: torch.Size([1, 480, 640]), y_hat: torch.Size([1, 5, 480, 640])\n",
      "Epoch 87:  50%|█████     | 1/2 [00:00<00:00,  4.70it/s, loss=0.0389, v_num=23]x: torch.Size([1, 3, 480, 640]), y: torch.Size([1, 480, 640]), y_hat: torch.Size([1, 5, 480, 640])\n",
      "Epoch 88:   0%|          | 0/2 [00:00<?, ?it/s, loss=0.0389, v_num=23]        x: torch.Size([1, 3, 480, 640]), y: torch.Size([1, 480, 640]), y_hat: torch.Size([1, 5, 480, 640])\n",
      "Epoch 88:  50%|█████     | 1/2 [00:00<00:00,  5.16it/s, loss=0.0389, v_num=23]x: torch.Size([1, 3, 480, 640]), y: torch.Size([1, 480, 640]), y_hat: torch.Size([1, 5, 480, 640])\n",
      "Epoch 89:   0%|          | 0/2 [00:00<?, ?it/s, loss=0.0389, v_num=23]        x: torch.Size([1, 3, 480, 640]), y: torch.Size([1, 480, 640]), y_hat: torch.Size([1, 5, 480, 640])\n",
      "Epoch 89:  50%|█████     | 1/2 [00:00<00:00,  5.50it/s, loss=0.0389, v_num=23]x: torch.Size([1, 3, 480, 640]), y: torch.Size([1, 480, 640]), y_hat: torch.Size([1, 5, 480, 640])\n",
      "Epoch 89: 100%|██████████| 2/2 [00:00<00:00,  5.46it/s, loss=0.0389, v_num=23]Epoch 00090: reducing learning rate of group 0 to 3.7253e-09.\n",
      "Epoch 90:   0%|          | 0/2 [00:00<?, ?it/s, loss=0.0389, v_num=23]        x: torch.Size([1, 3, 480, 640]), y: torch.Size([1, 480, 640]), y_hat: torch.Size([1, 5, 480, 640])\n",
      "Epoch 90:  50%|█████     | 1/2 [00:00<00:00,  5.07it/s, loss=0.0389, v_num=23]x: torch.Size([1, 3, 480, 640]), y: torch.Size([1, 480, 640]), y_hat: torch.Size([1, 5, 480, 640])\n",
      "Epoch 91:   0%|          | 0/2 [00:00<?, ?it/s, loss=0.0389, v_num=23]        x: torch.Size([1, 3, 480, 640]), y: torch.Size([1, 480, 640]), y_hat: torch.Size([1, 5, 480, 640])\n",
      "Epoch 91:  50%|█████     | 1/2 [00:00<00:00,  5.47it/s, loss=0.0389, v_num=23]x: torch.Size([1, 3, 480, 640]), y: torch.Size([1, 480, 640]), y_hat: torch.Size([1, 5, 480, 640])\n",
      "Epoch 92:   0%|          | 0/2 [00:00<?, ?it/s, loss=0.0389, v_num=23]        x: torch.Size([1, 3, 480, 640]), y: torch.Size([1, 480, 640]), y_hat: torch.Size([1, 5, 480, 640])\n",
      "Epoch 92:  50%|█████     | 1/2 [00:00<00:00,  5.34it/s, loss=0.0389, v_num=23]x: torch.Size([1, 3, 480, 640]), y: torch.Size([1, 480, 640]), y_hat: torch.Size([1, 5, 480, 640])\n",
      "Epoch 93:   0%|          | 0/2 [00:00<?, ?it/s, loss=0.0389, v_num=23]        x: torch.Size([1, 3, 480, 640]), y: torch.Size([1, 480, 640]), y_hat: torch.Size([1, 5, 480, 640])\n",
      "Epoch 93:  50%|█████     | 1/2 [00:00<00:00,  4.57it/s, loss=0.0389, v_num=23]x: torch.Size([1, 3, 480, 640]), y: torch.Size([1, 480, 640]), y_hat: torch.Size([1, 5, 480, 640])\n",
      "Epoch 94:   0%|          | 0/2 [00:00<?, ?it/s, loss=0.0389, v_num=23]        x: torch.Size([1, 3, 480, 640]), y: torch.Size([1, 480, 640]), y_hat: torch.Size([1, 5, 480, 640])\n",
      "Epoch 94:  50%|█████     | 1/2 [00:00<00:00,  5.06it/s, loss=0.0389, v_num=23]x: torch.Size([1, 3, 480, 640]), y: torch.Size([1, 480, 640]), y_hat: torch.Size([1, 5, 480, 640])\n",
      "Epoch 95:   0%|          | 0/2 [00:00<?, ?it/s, loss=0.0389, v_num=23]        x: torch.Size([1, 3, 480, 640]), y: torch.Size([1, 480, 640]), y_hat: torch.Size([1, 5, 480, 640])\n",
      "Epoch 95:  50%|█████     | 1/2 [00:00<00:00,  4.53it/s, loss=0.0389, v_num=23]x: torch.Size([1, 3, 480, 640]), y: torch.Size([1, 480, 640]), y_hat: torch.Size([1, 5, 480, 640])\n",
      "Epoch 96:   0%|          | 0/2 [00:00<?, ?it/s, loss=0.0389, v_num=23]        x: torch.Size([1, 3, 480, 640]), y: torch.Size([1, 480, 640]), y_hat: torch.Size([1, 5, 480, 640])\n",
      "Epoch 96:  50%|█████     | 1/2 [00:00<00:00,  5.66it/s, loss=0.0389, v_num=23]x: torch.Size([1, 3, 480, 640]), y: torch.Size([1, 480, 640]), y_hat: torch.Size([1, 5, 480, 640])\n",
      "Epoch 97:   0%|          | 0/2 [00:00<?, ?it/s, loss=0.0389, v_num=23]        x: torch.Size([1, 3, 480, 640]), y: torch.Size([1, 480, 640]), y_hat: torch.Size([1, 5, 480, 640])\n",
      "Epoch 97:  50%|█████     | 1/2 [00:00<00:00,  5.44it/s, loss=0.0389, v_num=23]x: torch.Size([1, 3, 480, 640]), y: torch.Size([1, 480, 640]), y_hat: torch.Size([1, 5, 480, 640])\n",
      "Epoch 98:   0%|          | 0/2 [00:00<?, ?it/s, loss=0.0389, v_num=23]        x: torch.Size([1, 3, 480, 640]), y: torch.Size([1, 480, 640]), y_hat: torch.Size([1, 5, 480, 640])\n",
      "Epoch 98:  50%|█████     | 1/2 [00:00<00:00,  5.37it/s, loss=0.0389, v_num=23]x: torch.Size([1, 3, 480, 640]), y: torch.Size([1, 480, 640]), y_hat: torch.Size([1, 5, 480, 640])\n",
      "Epoch 99:   0%|          | 0/2 [00:00<?, ?it/s, loss=0.0389, v_num=23]        x: torch.Size([1, 3, 480, 640]), y: torch.Size([1, 480, 640]), y_hat: torch.Size([1, 5, 480, 640])\n",
      "Epoch 99:  50%|█████     | 1/2 [00:00<00:00,  4.76it/s, loss=0.0389, v_num=23]x: torch.Size([1, 3, 480, 640]), y: torch.Size([1, 480, 640]), y_hat: torch.Size([1, 5, 480, 640])\n",
      "Epoch 100:   0%|          | 0/2 [00:00<?, ?it/s, loss=0.0389, v_num=23]       x: torch.Size([1, 3, 480, 640]), y: torch.Size([1, 480, 640]), y_hat: torch.Size([1, 5, 480, 640])\n",
      "Epoch 100:  50%|█████     | 1/2 [00:00<00:00,  5.22it/s, loss=0.0389, v_num=23]x: torch.Size([1, 3, 480, 640]), y: torch.Size([1, 480, 640]), y_hat: torch.Size([1, 5, 480, 640])\n",
      "Epoch 101:   0%|          | 0/2 [00:00<?, ?it/s, loss=0.0389, v_num=23]        x: torch.Size([1, 3, 480, 640]), y: torch.Size([1, 480, 640]), y_hat: torch.Size([1, 5, 480, 640])\n",
      "Epoch 101:  50%|█████     | 1/2 [00:00<00:00,  4.78it/s, loss=0.0389, v_num=23]x: torch.Size([1, 3, 480, 640]), y: torch.Size([1, 480, 640]), y_hat: torch.Size([1, 5, 480, 640])\n",
      "Epoch 102:   0%|          | 0/2 [00:00<?, ?it/s, loss=0.0389, v_num=23]        x: torch.Size([1, 3, 480, 640]), y: torch.Size([1, 480, 640]), y_hat: torch.Size([1, 5, 480, 640])\n",
      "Epoch 102:  50%|█████     | 1/2 [00:00<00:00,  4.73it/s, loss=0.0389, v_num=23]x: torch.Size([1, 3, 480, 640]), y: torch.Size([1, 480, 640]), y_hat: torch.Size([1, 5, 480, 640])\n",
      "Epoch 103:   0%|          | 0/2 [00:00<?, ?it/s, loss=0.0389, v_num=23]        x: torch.Size([1, 3, 480, 640]), y: torch.Size([1, 480, 640]), y_hat: torch.Size([1, 5, 480, 640])\n",
      "Epoch 103:  50%|█████     | 1/2 [00:00<00:00,  4.51it/s, loss=0.0389, v_num=23]x: torch.Size([1, 3, 480, 640]), y: torch.Size([1, 480, 640]), y_hat: torch.Size([1, 5, 480, 640])\n",
      "Epoch 104:   0%|          | 0/2 [00:00<?, ?it/s, loss=0.0389, v_num=23]        x: torch.Size([1, 3, 480, 640]), y: torch.Size([1, 480, 640]), y_hat: torch.Size([1, 5, 480, 640])\n",
      "Epoch 104:  50%|█████     | 1/2 [00:00<00:00,  4.86it/s, loss=0.0389, v_num=23]x: torch.Size([1, 3, 480, 640]), y: torch.Size([1, 480, 640]), y_hat: torch.Size([1, 5, 480, 640])\n",
      "Epoch 105:   0%|          | 0/2 [00:00<?, ?it/s, loss=0.0389, v_num=23]        x: torch.Size([1, 3, 480, 640]), y: torch.Size([1, 480, 640]), y_hat: torch.Size([1, 5, 480, 640])\n",
      "Epoch 105:  50%|█████     | 1/2 [00:00<00:00,  5.28it/s, loss=0.0389, v_num=23]x: torch.Size([1, 3, 480, 640]), y: torch.Size([1, 480, 640]), y_hat: torch.Size([1, 5, 480, 640])\n",
      "Epoch 106:   0%|          | 0/2 [00:00<?, ?it/s, loss=0.0389, v_num=23]        x: torch.Size([1, 3, 480, 640]), y: torch.Size([1, 480, 640]), y_hat: torch.Size([1, 5, 480, 640])\n",
      "Epoch 106:  50%|█████     | 1/2 [00:00<00:00,  5.09it/s, loss=0.0389, v_num=23]x: torch.Size([1, 3, 480, 640]), y: torch.Size([1, 480, 640]), y_hat: torch.Size([1, 5, 480, 640])\n",
      "Epoch 107:   0%|          | 0/2 [00:00<?, ?it/s, loss=0.0389, v_num=23]        x: torch.Size([1, 3, 480, 640]), y: torch.Size([1, 480, 640]), y_hat: torch.Size([1, 5, 480, 640])\n",
      "Epoch 107:  50%|█████     | 1/2 [00:00<00:00,  4.92it/s, loss=0.0389, v_num=23]x: torch.Size([1, 3, 480, 640]), y: torch.Size([1, 480, 640]), y_hat: torch.Size([1, 5, 480, 640])\n",
      "Epoch 108:   0%|          | 0/2 [00:00<?, ?it/s, loss=0.0389, v_num=23]        x: torch.Size([1, 3, 480, 640]), y: torch.Size([1, 480, 640]), y_hat: torch.Size([1, 5, 480, 640])\n",
      "Epoch 108:  50%|█████     | 1/2 [00:00<00:00,  5.39it/s, loss=0.0389, v_num=23]x: torch.Size([1, 3, 480, 640]), y: torch.Size([1, 480, 640]), y_hat: torch.Size([1, 5, 480, 640])\n",
      "Epoch 109:   0%|          | 0/2 [00:00<?, ?it/s, loss=0.0389, v_num=23]        x: torch.Size([1, 3, 480, 640]), y: torch.Size([1, 480, 640]), y_hat: torch.Size([1, 5, 480, 640])\n",
      "Epoch 109:  50%|█████     | 1/2 [00:00<00:00,  5.08it/s, loss=0.0389, v_num=23]x: torch.Size([1, 3, 480, 640]), y: torch.Size([1, 480, 640]), y_hat: torch.Size([1, 5, 480, 640])\n",
      "Epoch 110:   0%|          | 0/2 [00:00<?, ?it/s, loss=0.0389, v_num=23]        x: torch.Size([1, 3, 480, 640]), y: torch.Size([1, 480, 640]), y_hat: torch.Size([1, 5, 480, 640])\n",
      "Epoch 110:  50%|█████     | 1/2 [00:00<00:00,  5.08it/s, loss=0.0389, v_num=23]x: torch.Size([1, 3, 480, 640]), y: torch.Size([1, 480, 640]), y_hat: torch.Size([1, 5, 480, 640])\n",
      "Epoch 111:   0%|          | 0/2 [00:00<?, ?it/s, loss=0.0389, v_num=23]        x: torch.Size([1, 3, 480, 640]), y: torch.Size([1, 480, 640]), y_hat: torch.Size([1, 5, 480, 640])\n",
      "Epoch 111:  50%|█████     | 1/2 [00:00<00:00,  5.04it/s, loss=0.0389, v_num=23]x: torch.Size([1, 3, 480, 640]), y: torch.Size([1, 480, 640]), y_hat: torch.Size([1, 5, 480, 640])\n",
      "Epoch 112:   0%|          | 0/2 [00:00<?, ?it/s, loss=0.0389, v_num=23]        x: torch.Size([1, 3, 480, 640]), y: torch.Size([1, 480, 640]), y_hat: torch.Size([1, 5, 480, 640])\n",
      "Epoch 112:  50%|█████     | 1/2 [00:00<00:00,  4.85it/s, loss=0.0389, v_num=23]x: torch.Size([1, 3, 480, 640]), y: torch.Size([1, 480, 640]), y_hat: torch.Size([1, 5, 480, 640])\n",
      "Epoch 113:   0%|          | 0/2 [00:00<?, ?it/s, loss=0.0389, v_num=23]        x: torch.Size([1, 3, 480, 640]), y: torch.Size([1, 480, 640]), y_hat: torch.Size([1, 5, 480, 640])\n",
      "Epoch 113:  50%|█████     | 1/2 [00:00<00:00,  5.35it/s, loss=0.0389, v_num=23]x: torch.Size([1, 3, 480, 640]), y: torch.Size([1, 480, 640]), y_hat: torch.Size([1, 5, 480, 640])\n",
      "Epoch 114:   0%|          | 0/2 [00:00<?, ?it/s, loss=0.0389, v_num=23]        x: torch.Size([1, 3, 480, 640]), y: torch.Size([1, 480, 640]), y_hat: torch.Size([1, 5, 480, 640])\n",
      "Epoch 114:  50%|█████     | 1/2 [00:00<00:00,  4.70it/s, loss=0.0389, v_num=23]x: torch.Size([1, 3, 480, 640]), y: torch.Size([1, 480, 640]), y_hat: torch.Size([1, 5, 480, 640])\n",
      "Epoch 115:   0%|          | 0/2 [00:00<?, ?it/s, loss=0.0389, v_num=23]        x: torch.Size([1, 3, 480, 640]), y: torch.Size([1, 480, 640]), y_hat: torch.Size([1, 5, 480, 640])\n",
      "Epoch 115:  50%|█████     | 1/2 [00:00<00:00,  4.65it/s, loss=0.0389, v_num=23]x: torch.Size([1, 3, 480, 640]), y: torch.Size([1, 480, 640]), y_hat: torch.Size([1, 5, 480, 640])\n",
      "Epoch 116:   0%|          | 0/2 [00:00<?, ?it/s, loss=0.0389, v_num=23]        x: torch.Size([1, 3, 480, 640]), y: torch.Size([1, 480, 640]), y_hat: torch.Size([1, 5, 480, 640])\n",
      "Epoch 116:  50%|█████     | 1/2 [00:00<00:00,  4.94it/s, loss=0.0389, v_num=23]x: torch.Size([1, 3, 480, 640]), y: torch.Size([1, 480, 640]), y_hat: torch.Size([1, 5, 480, 640])\n",
      "Epoch 117:   0%|          | 0/2 [00:00<?, ?it/s, loss=0.0389, v_num=23]        x: torch.Size([1, 3, 480, 640]), y: torch.Size([1, 480, 640]), y_hat: torch.Size([1, 5, 480, 640])\n",
      "Epoch 117:  50%|█████     | 1/2 [00:00<00:00,  4.91it/s, loss=0.0389, v_num=23]x: torch.Size([1, 3, 480, 640]), y: torch.Size([1, 480, 640]), y_hat: torch.Size([1, 5, 480, 640])\n",
      "Epoch 118:   0%|          | 0/2 [00:00<?, ?it/s, loss=0.0389, v_num=23]        x: torch.Size([1, 3, 480, 640]), y: torch.Size([1, 480, 640]), y_hat: torch.Size([1, 5, 480, 640])\n",
      "Epoch 118:  50%|█████     | 1/2 [00:00<00:00,  3.95it/s, loss=0.0389, v_num=23]x: torch.Size([1, 3, 480, 640]), y: torch.Size([1, 480, 640]), y_hat: torch.Size([1, 5, 480, 640])\n",
      "Epoch 119:   0%|          | 0/2 [00:00<?, ?it/s, loss=0.0389, v_num=23]        x: torch.Size([1, 3, 480, 640]), y: torch.Size([1, 480, 640]), y_hat: torch.Size([1, 5, 480, 640])\n",
      "Epoch 119:  50%|█████     | 1/2 [00:00<00:00,  4.68it/s, loss=0.0389, v_num=23]x: torch.Size([1, 3, 480, 640]), y: torch.Size([1, 480, 640]), y_hat: torch.Size([1, 5, 480, 640])\n",
      "Epoch 120:   0%|          | 0/2 [00:00<?, ?it/s, loss=0.0389, v_num=23]        x: torch.Size([1, 3, 480, 640]), y: torch.Size([1, 480, 640]), y_hat: torch.Size([1, 5, 480, 640])\n",
      "Epoch 120:  50%|█████     | 1/2 [00:00<00:00,  5.06it/s, loss=0.0389, v_num=23]x: torch.Size([1, 3, 480, 640]), y: torch.Size([1, 480, 640]), y_hat: torch.Size([1, 5, 480, 640])\n",
      "Epoch 121:   0%|          | 0/2 [00:00<?, ?it/s, loss=0.0389, v_num=23]        x: torch.Size([1, 3, 480, 640]), y: torch.Size([1, 480, 640]), y_hat: torch.Size([1, 5, 480, 640])\n",
      "Epoch 121:  50%|█████     | 1/2 [00:00<00:00,  5.13it/s, loss=0.0389, v_num=23]x: torch.Size([1, 3, 480, 640]), y: torch.Size([1, 480, 640]), y_hat: torch.Size([1, 5, 480, 640])\n",
      "Epoch 122:   0%|          | 0/2 [00:00<?, ?it/s, loss=0.0389, v_num=23]        x: torch.Size([1, 3, 480, 640]), y: torch.Size([1, 480, 640]), y_hat: torch.Size([1, 5, 480, 640])\n",
      "Epoch 122:  50%|█████     | 1/2 [00:00<00:00,  4.85it/s, loss=0.0389, v_num=23]x: torch.Size([1, 3, 480, 640]), y: torch.Size([1, 480, 640]), y_hat: torch.Size([1, 5, 480, 640])\n",
      "Epoch 123:   0%|          | 0/2 [00:00<?, ?it/s, loss=0.0389, v_num=23]        x: torch.Size([1, 3, 480, 640]), y: torch.Size([1, 480, 640]), y_hat: torch.Size([1, 5, 480, 640])\n",
      "Epoch 123:  50%|█████     | 1/2 [00:00<00:00,  4.84it/s, loss=0.0389, v_num=23]x: torch.Size([1, 3, 480, 640]), y: torch.Size([1, 480, 640]), y_hat: torch.Size([1, 5, 480, 640])\n",
      "Epoch 124:   0%|          | 0/2 [00:00<?, ?it/s, loss=0.0389, v_num=23]        x: torch.Size([1, 3, 480, 640]), y: torch.Size([1, 480, 640]), y_hat: torch.Size([1, 5, 480, 640])\n",
      "Epoch 124:  50%|█████     | 1/2 [00:00<00:00,  3.74it/s, loss=0.0389, v_num=23]x: torch.Size([1, 3, 480, 640]), y: torch.Size([1, 480, 640]), y_hat: torch.Size([1, 5, 480, 640])\n",
      "Epoch 125:   0%|          | 0/2 [00:00<?, ?it/s, loss=0.0389, v_num=23]        x: torch.Size([1, 3, 480, 640]), y: torch.Size([1, 480, 640]), y_hat: torch.Size([1, 5, 480, 640])\n",
      "Epoch 125:  50%|█████     | 1/2 [00:00<00:00,  5.04it/s, loss=0.0389, v_num=23]x: torch.Size([1, 3, 480, 640]), y: torch.Size([1, 480, 640]), y_hat: torch.Size([1, 5, 480, 640])\n",
      "Epoch 126:   0%|          | 0/2 [00:00<?, ?it/s, loss=0.0389, v_num=23]        x: torch.Size([1, 3, 480, 640]), y: torch.Size([1, 480, 640]), y_hat: torch.Size([1, 5, 480, 640])\n",
      "Epoch 126:  50%|█████     | 1/2 [00:00<00:00,  4.83it/s, loss=0.0389, v_num=23]x: torch.Size([1, 3, 480, 640]), y: torch.Size([1, 480, 640]), y_hat: torch.Size([1, 5, 480, 640])\n",
      "Epoch 127:   0%|          | 0/2 [00:00<?, ?it/s, loss=0.0389, v_num=23]        x: torch.Size([1, 3, 480, 640]), y: torch.Size([1, 480, 640]), y_hat: torch.Size([1, 5, 480, 640])\n",
      "Epoch 127:  50%|█████     | 1/2 [00:00<00:00,  4.64it/s, loss=0.0389, v_num=23]x: torch.Size([1, 3, 480, 640]), y: torch.Size([1, 480, 640]), y_hat: torch.Size([1, 5, 480, 640])\n",
      "Epoch 128:   0%|          | 0/2 [00:00<?, ?it/s, loss=0.0389, v_num=23]        x: torch.Size([1, 3, 480, 640]), y: torch.Size([1, 480, 640]), y_hat: torch.Size([1, 5, 480, 640])\n",
      "Epoch 128:  50%|█████     | 1/2 [00:00<00:00,  4.68it/s, loss=0.0389, v_num=23]x: torch.Size([1, 3, 480, 640]), y: torch.Size([1, 480, 640]), y_hat: torch.Size([1, 5, 480, 640])\n",
      "Epoch 129:   0%|          | 0/2 [00:00<?, ?it/s, loss=0.0389, v_num=23]        x: torch.Size([1, 3, 480, 640]), y: torch.Size([1, 480, 640]), y_hat: torch.Size([1, 5, 480, 640])\n",
      "Epoch 129:  50%|█████     | 1/2 [00:00<00:00,  3.99it/s, loss=0.0389, v_num=23]x: torch.Size([1, 3, 480, 640]), y: torch.Size([1, 480, 640]), y_hat: torch.Size([1, 5, 480, 640])\n",
      "Epoch 130:   0%|          | 0/2 [00:00<?, ?it/s, loss=0.0389, v_num=23]        x: torch.Size([1, 3, 480, 640]), y: torch.Size([1, 480, 640]), y_hat: torch.Size([1, 5, 480, 640])\n",
      "Epoch 130:  50%|█████     | 1/2 [00:00<00:00,  3.93it/s, loss=0.0389, v_num=23]x: torch.Size([1, 3, 480, 640]), y: torch.Size([1, 480, 640]), y_hat: torch.Size([1, 5, 480, 640])\n",
      "Epoch 131:   0%|          | 0/2 [00:00<?, ?it/s, loss=0.0389, v_num=23]        x: torch.Size([1, 3, 480, 640]), y: torch.Size([1, 480, 640]), y_hat: torch.Size([1, 5, 480, 640])\n",
      "Epoch 131:  50%|█████     | 1/2 [00:00<00:00,  4.42it/s, loss=0.0389, v_num=23]x: torch.Size([1, 3, 480, 640]), y: torch.Size([1, 480, 640]), y_hat: torch.Size([1, 5, 480, 640])\n",
      "Epoch 132:   0%|          | 0/2 [00:00<?, ?it/s, loss=0.0389, v_num=23]        x: torch.Size([1, 3, 480, 640]), y: torch.Size([1, 480, 640]), y_hat: torch.Size([1, 5, 480, 640])\n",
      "Epoch 132:  50%|█████     | 1/2 [00:00<00:00,  4.34it/s, loss=0.0389, v_num=23]x: torch.Size([1, 3, 480, 640]), y: torch.Size([1, 480, 640]), y_hat: torch.Size([1, 5, 480, 640])\n",
      "Epoch 133:   0%|          | 0/2 [00:00<?, ?it/s, loss=0.0389, v_num=23]        x: torch.Size([1, 3, 480, 640]), y: torch.Size([1, 480, 640]), y_hat: torch.Size([1, 5, 480, 640])\n",
      "Epoch 133:  50%|█████     | 1/2 [00:00<00:00,  4.42it/s, loss=0.0389, v_num=23]x: torch.Size([1, 3, 480, 640]), y: torch.Size([1, 480, 640]), y_hat: torch.Size([1, 5, 480, 640])\n",
      "Epoch 134:   0%|          | 0/2 [00:00<?, ?it/s, loss=0.0389, v_num=23]        x: torch.Size([1, 3, 480, 640]), y: torch.Size([1, 480, 640]), y_hat: torch.Size([1, 5, 480, 640])\n",
      "Epoch 134:  50%|█████     | 1/2 [00:00<00:00,  3.93it/s, loss=0.0389, v_num=23]x: torch.Size([1, 3, 480, 640]), y: torch.Size([1, 480, 640]), y_hat: torch.Size([1, 5, 480, 640])\n",
      "Epoch 135:   0%|          | 0/2 [00:00<?, ?it/s, loss=0.0389, v_num=23]        x: torch.Size([1, 3, 480, 640]), y: torch.Size([1, 480, 640]), y_hat: torch.Size([1, 5, 480, 640])\n",
      "Epoch 135:  50%|█████     | 1/2 [00:00<00:00,  4.23it/s, loss=0.0389, v_num=23]x: torch.Size([1, 3, 480, 640]), y: torch.Size([1, 480, 640]), y_hat: torch.Size([1, 5, 480, 640])\n",
      "Epoch 136:   0%|          | 0/2 [00:00<?, ?it/s, loss=0.0389, v_num=23]        x: torch.Size([1, 3, 480, 640]), y: torch.Size([1, 480, 640]), y_hat: torch.Size([1, 5, 480, 640])\n",
      "Epoch 136:  50%|█████     | 1/2 [00:00<00:00,  5.25it/s, loss=0.0389, v_num=23]x: torch.Size([1, 3, 480, 640]), y: torch.Size([1, 480, 640]), y_hat: torch.Size([1, 5, 480, 640])\n",
      "Epoch 137:   0%|          | 0/2 [00:00<?, ?it/s, loss=0.0389, v_num=23]        x: torch.Size([1, 3, 480, 640]), y: torch.Size([1, 480, 640]), y_hat: torch.Size([1, 5, 480, 640])\n",
      "Epoch 137:  50%|█████     | 1/2 [00:00<00:00,  5.13it/s, loss=0.0389, v_num=23]x: torch.Size([1, 3, 480, 640]), y: torch.Size([1, 480, 640]), y_hat: torch.Size([1, 5, 480, 640])\n",
      "Epoch 138:   0%|          | 0/2 [00:00<?, ?it/s, loss=0.0389, v_num=23]        x: torch.Size([1, 3, 480, 640]), y: torch.Size([1, 480, 640]), y_hat: torch.Size([1, 5, 480, 640])\n",
      "Epoch 138:  50%|█████     | 1/2 [00:00<00:00,  5.67it/s, loss=0.0389, v_num=23]x: torch.Size([1, 3, 480, 640]), y: torch.Size([1, 480, 640]), y_hat: torch.Size([1, 5, 480, 640])\n",
      "Epoch 139:   0%|          | 0/2 [00:00<?, ?it/s, loss=0.0389, v_num=23]        x: torch.Size([1, 3, 480, 640]), y: torch.Size([1, 480, 640]), y_hat: torch.Size([1, 5, 480, 640])\n",
      "Epoch 139:  50%|█████     | 1/2 [00:00<00:00,  5.67it/s, loss=0.0389, v_num=23]x: torch.Size([1, 3, 480, 640]), y: torch.Size([1, 480, 640]), y_hat: torch.Size([1, 5, 480, 640])\n",
      "Epoch 140:   0%|          | 0/2 [00:00<?, ?it/s, loss=0.0389, v_num=23]        x: torch.Size([1, 3, 480, 640]), y: torch.Size([1, 480, 640]), y_hat: torch.Size([1, 5, 480, 640])\n",
      "Epoch 140:  50%|█████     | 1/2 [00:00<00:00,  4.86it/s, loss=0.0389, v_num=23]x: torch.Size([1, 3, 480, 640]), y: torch.Size([1, 480, 640]), y_hat: torch.Size([1, 5, 480, 640])\n",
      "Epoch 141:   0%|          | 0/2 [00:00<?, ?it/s, loss=0.0389, v_num=23]        x: torch.Size([1, 3, 480, 640]), y: torch.Size([1, 480, 640]), y_hat: torch.Size([1, 5, 480, 640])\n",
      "Epoch 141:  50%|█████     | 1/2 [00:00<00:00,  5.35it/s, loss=0.0389, v_num=23]x: torch.Size([1, 3, 480, 640]), y: torch.Size([1, 480, 640]), y_hat: torch.Size([1, 5, 480, 640])\n",
      "Epoch 142:   0%|          | 0/2 [00:00<?, ?it/s, loss=0.0389, v_num=23]        x: torch.Size([1, 3, 480, 640]), y: torch.Size([1, 480, 640]), y_hat: torch.Size([1, 5, 480, 640])\n",
      "Epoch 142:  50%|█████     | 1/2 [00:00<00:00,  4.69it/s, loss=0.0389, v_num=23]x: torch.Size([1, 3, 480, 640]), y: torch.Size([1, 480, 640]), y_hat: torch.Size([1, 5, 480, 640])\n",
      "Epoch 143:   0%|          | 0/2 [00:00<?, ?it/s, loss=0.0389, v_num=23]        x: torch.Size([1, 3, 480, 640]), y: torch.Size([1, 480, 640]), y_hat: torch.Size([1, 5, 480, 640])\n",
      "Epoch 143:  50%|█████     | 1/2 [00:00<00:00,  4.48it/s, loss=0.0389, v_num=23]x: torch.Size([1, 3, 480, 640]), y: torch.Size([1, 480, 640]), y_hat: torch.Size([1, 5, 480, 640])\n",
      "Epoch 144:   0%|          | 0/2 [00:00<?, ?it/s, loss=0.0389, v_num=23]        x: torch.Size([1, 3, 480, 640]), y: torch.Size([1, 480, 640]), y_hat: torch.Size([1, 5, 480, 640])\n",
      "Epoch 144:  50%|█████     | 1/2 [00:00<00:00,  4.55it/s, loss=0.0389, v_num=23]x: torch.Size([1, 3, 480, 640]), y: torch.Size([1, 480, 640]), y_hat: torch.Size([1, 5, 480, 640])\n",
      "Epoch 145:   0%|          | 0/2 [00:00<?, ?it/s, loss=0.0389, v_num=23]        x: torch.Size([1, 3, 480, 640]), y: torch.Size([1, 480, 640]), y_hat: torch.Size([1, 5, 480, 640])\n",
      "Epoch 145:  50%|█████     | 1/2 [00:00<00:00,  4.60it/s, loss=0.0389, v_num=23]x: torch.Size([1, 3, 480, 640]), y: torch.Size([1, 480, 640]), y_hat: torch.Size([1, 5, 480, 640])\n",
      "Epoch 146:   0%|          | 0/2 [00:00<?, ?it/s, loss=0.0389, v_num=23]        x: torch.Size([1, 3, 480, 640]), y: torch.Size([1, 480, 640]), y_hat: torch.Size([1, 5, 480, 640])\n",
      "Epoch 146:  50%|█████     | 1/2 [00:00<00:00,  4.74it/s, loss=0.0389, v_num=23]x: torch.Size([1, 3, 480, 640]), y: torch.Size([1, 480, 640]), y_hat: torch.Size([1, 5, 480, 640])\n",
      "Epoch 147:   0%|          | 0/2 [00:00<?, ?it/s, loss=0.0389, v_num=23]        x: torch.Size([1, 3, 480, 640]), y: torch.Size([1, 480, 640]), y_hat: torch.Size([1, 5, 480, 640])\n",
      "Epoch 147:  50%|█████     | 1/2 [00:00<00:00,  4.05it/s, loss=0.0389, v_num=23]x: torch.Size([1, 3, 480, 640]), y: torch.Size([1, 480, 640]), y_hat: torch.Size([1, 5, 480, 640])\n",
      "Epoch 148:   0%|          | 0/2 [00:00<?, ?it/s, loss=0.0389, v_num=23]        x: torch.Size([1, 3, 480, 640]), y: torch.Size([1, 480, 640]), y_hat: torch.Size([1, 5, 480, 640])\n",
      "Epoch 148:  50%|█████     | 1/2 [00:00<00:00,  4.79it/s, loss=0.0389, v_num=23]x: torch.Size([1, 3, 480, 640]), y: torch.Size([1, 480, 640]), y_hat: torch.Size([1, 5, 480, 640])\n",
      "Epoch 149:   0%|          | 0/2 [00:00<?, ?it/s, loss=0.0389, v_num=23]        x: torch.Size([1, 3, 480, 640]), y: torch.Size([1, 480, 640]), y_hat: torch.Size([1, 5, 480, 640])\n",
      "Epoch 149:  50%|█████     | 1/2 [00:00<00:00,  4.57it/s, loss=0.0389, v_num=23]x: torch.Size([1, 3, 480, 640]), y: torch.Size([1, 480, 640]), y_hat: torch.Size([1, 5, 480, 640])\n",
      "Epoch 149: 100%|██████████| 2/2 [00:00<00:00,  5.09it/s, loss=0.0389, v_num=23]"
     ]
    },
    {
     "name": "stderr",
     "output_type": "stream",
     "text": [
      "`Trainer.fit` stopped: `max_epochs=150` reached.\n"
     ]
    },
    {
     "name": "stdout",
     "output_type": "stream",
     "text": [
      "Epoch 149: 100%|██████████| 2/2 [00:00<00:00,  4.75it/s, loss=0.0389, v_num=23]\n"
     ]
    }
   ],
   "source": [
    "hparams = {\n",
    "    # --- Model ---\n",
    "    # | Model hyperparameters\n",
    "    'num_classes': 5,\n",
    "    # | Optimization hyperparameters\n",
    "    \"learning_rate\": 0.0625,\n",
    "    \"weight_decay\": 0.000000625,\n",
    "    \"lr_decay\": 0.25,\n",
    "    \n",
    "    # --- Dataloader (Hardware-specific) ---\n",
    "    \"batch_size\": 12,\n",
    "    \"num_workers\": 2,\n",
    "}\n",
    "\n",
    "model = DTSegmentationNetwork(hparams)\n",
    "\n",
    "# Overfit for testing\n",
    "early_stop_overfit_callback = EarlyStopping(\n",
    "    monitor='loss',\n",
    "    patience=150,\n",
    "    min_delta=0.0005,\n",
    "    verbose=True,\n",
    "    mode='min'\n",
    ")\n",
    "\n",
    "trainer = pl.Trainer(\n",
    "    log_every_n_steps=1,\n",
    "    max_epochs=150,\n",
    "    overfit_batches=1,\n",
    "    callbacks=[early_stop_overfit_callback]\n",
    ")\n",
    "\n",
    "# image, target = train[0]\n",
    "# # print(f'image: {image.shape}, target: {target.shape}')\n",
    "# result = torch.argmax(target, dim=0)\n",
    "# print(f'image: {image.shape}, result: {result.shape}, value range: {torch.min(result)}-{torch.max(result)}')\n",
    "\n",
    "trainer.fit(model, DataLoader(train, shuffle=False, batch_size=1), DataLoader(val, shuffle=False, batch_size=1))"
   ]
  },
  {
   "cell_type": "code",
   "execution_count": 22,
   "metadata": {},
   "outputs": [
    {
     "name": "stdout",
     "output_type": "stream",
     "text": [
      "Target shape: torch.Size([480, 640]), value range: 0-3\n",
      "target: tensor([[0, 0, 0,  ..., 0, 0, 0],\n",
      "        [0, 0, 0,  ..., 0, 0, 0],\n",
      "        [0, 0, 0,  ..., 0, 0, 0],\n",
      "        ...,\n",
      "        [0, 0, 0,  ..., 0, 0, 0],\n",
      "        [0, 0, 0,  ..., 0, 0, 0],\n",
      "        [0, 0, 0,  ..., 0, 0, 0]])\n",
      "Result shape: torch.Size([1, 480, 640]), value range: 0-3\n"
     ]
    }
   ],
   "source": [
    "# visualize the overfitted results\n",
    "img, target = train[0]\n",
    "print(f\"Target shape: {target.shape}, value range: {torch.min(target)}-{torch.max(target)}\")\n",
    "result = torch.argmax(model(img.unsqueeze(0)), dim=1)\n",
    "print(f\"Result shape: {result.shape}, value range: {torch.min(result)}-{torch.max(result)}\")\n",
    "pil_transform = transforms.ToPILImage()\n",
    "pil_transform(img).show(title=\"image\")\n",
    "pil_transform(DTSegmentationDataset.label_img_to_rgb(target)).show(title=\"ground truth\")\n",
    "pil_transform(DTSegmentationDataset.label_img_to_rgb(result[0])).show(title=\"prediction\")"
   ]
  },
  {
   "attachments": {},
   "cell_type": "markdown",
   "metadata": {},
   "source": [
    "### Training the model"
   ]
  },
  {
   "cell_type": "code",
   "execution_count": null,
   "metadata": {},
   "outputs": [],
   "source": [
    "#"
   ]
  }
 ],
 "metadata": {
  "kernelspec": {
   "display_name": "pl",
   "language": "python",
   "name": "python3"
  },
  "language_info": {
   "codemirror_mode": {
    "name": "ipython",
    "version": 3
   },
   "file_extension": ".py",
   "mimetype": "text/x-python",
   "name": "python",
   "nbconvert_exporter": "python",
   "pygments_lexer": "ipython3",
   "version": "3.10.8"
  },
  "orig_nbformat": 4,
  "vscode": {
   "interpreter": {
    "hash": "3315f46222374d13566524152beecd401bb6de98e11336215c532ce4113572da"
   }
  }
 },
 "nbformat": 4,
 "nbformat_minor": 2
}
